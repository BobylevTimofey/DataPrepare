{
 "cells": [
  {
   "cell_type": "code",
   "execution_count": 64,
   "id": "initial_id",
   "metadata": {
    "collapsed": true,
    "ExecuteTime": {
     "end_time": "2024-04-11T15:25:52.149444Z",
     "start_time": "2024-04-11T15:25:52.145913Z"
    }
   },
   "outputs": [],
   "source": [
    "# подключаем библиотеки\n",
    "from geopy.distance import geodesic as gd\n",
    "import pandas as pd\n",
    "import numpy as np\n",
    "import datetime\n",
    "import requests"
   ]
  },
  {
   "cell_type": "code",
   "outputs": [
    {
     "data": {
      "text/plain": "           OrderId  EstimatedTimeArrival           SetDriverDate  \\\n0       3546241840                     2 2024-02-23 04:57:42.457   \n1       3548209178                     3 2024-03-06 11:28:11.437   \n2       3545181356                    10 2024-02-17 13:36:35.753   \n3       3544674788                    23 2024-02-15 08:28:35.887   \n4       3544741846                     4 2024-02-15 14:00:28.757   \n...            ...                   ...                     ...   \n145643  3549307840                    20 2024-03-12 13:11:00.257   \n145644  3549335321                    16 2024-03-12 16:35:31.980   \n145645  3549440079                    15 2024-03-13 12:20:30.407   \n145646  3549478652                    15 2024-03-13 17:39:13.897   \n145647  3549499846                    18 2024-03-13 23:46:41.800   \n\n             ArrivalDriverDate       OrderCreationDate  LoadArea  \\\n0      2024-02-23 04:57:50.783 2024-02-23 04:55:57.640       1.0   \n1      2024-03-06 11:28:42.560 2024-03-06 11:26:13.280       1.0   \n2      2024-02-17 13:45:52.593 2024-02-17 13:34:06.520       1.0   \n3      2024-02-15 08:52:51.310 2024-02-15 08:23:50.733       1.0   \n4      2024-02-15 14:02:38.143 2024-02-15 13:54:06.180       1.0   \n...                        ...                     ...       ...   \n145643 2024-03-12 13:27:48.380 2024-03-12 13:10:20.693       1.0   \n145644 2024-03-12 16:50:10.303 2024-03-12 16:34:24.670       1.0   \n145645 2024-03-13 12:36:55.087 2024-03-13 12:09:17.090       1.0   \n145646 2024-03-13 17:45:17.017 2024-03-13 16:59:03.620       1.0   \n145647 2024-03-14 00:05:44.097 2024-03-13 23:44:52.303       1.0   \n\n        FeedPointLatitude  FeedPointLongitude  TariffTTypeId  \n0               57.150726           65.534576             66  \n1               57.150726           65.534576             66  \n2               57.150612           65.540314             11  \n3               57.101444           65.592384             27  \n4               57.122231           65.526054             27  \n...                   ...                 ...            ...  \n145643          57.101452           65.577003           1084  \n145644          57.204575           65.602242           1084  \n145645          57.110733           65.573792           1084  \n145646          57.115326           65.560928           1084  \n145647          57.115326           65.560928           1084  \n\n[145648 rows x 9 columns]",
      "text/html": "<div>\n<style scoped>\n    .dataframe tbody tr th:only-of-type {\n        vertical-align: middle;\n    }\n\n    .dataframe tbody tr th {\n        vertical-align: top;\n    }\n\n    .dataframe thead th {\n        text-align: right;\n    }\n</style>\n<table border=\"1\" class=\"dataframe\">\n  <thead>\n    <tr style=\"text-align: right;\">\n      <th></th>\n      <th>OrderId</th>\n      <th>EstimatedTimeArrival</th>\n      <th>SetDriverDate</th>\n      <th>ArrivalDriverDate</th>\n      <th>OrderCreationDate</th>\n      <th>LoadArea</th>\n      <th>FeedPointLatitude</th>\n      <th>FeedPointLongitude</th>\n      <th>TariffTTypeId</th>\n    </tr>\n  </thead>\n  <tbody>\n    <tr>\n      <th>0</th>\n      <td>3546241840</td>\n      <td>2</td>\n      <td>2024-02-23 04:57:42.457</td>\n      <td>2024-02-23 04:57:50.783</td>\n      <td>2024-02-23 04:55:57.640</td>\n      <td>1.0</td>\n      <td>57.150726</td>\n      <td>65.534576</td>\n      <td>66</td>\n    </tr>\n    <tr>\n      <th>1</th>\n      <td>3548209178</td>\n      <td>3</td>\n      <td>2024-03-06 11:28:11.437</td>\n      <td>2024-03-06 11:28:42.560</td>\n      <td>2024-03-06 11:26:13.280</td>\n      <td>1.0</td>\n      <td>57.150726</td>\n      <td>65.534576</td>\n      <td>66</td>\n    </tr>\n    <tr>\n      <th>2</th>\n      <td>3545181356</td>\n      <td>10</td>\n      <td>2024-02-17 13:36:35.753</td>\n      <td>2024-02-17 13:45:52.593</td>\n      <td>2024-02-17 13:34:06.520</td>\n      <td>1.0</td>\n      <td>57.150612</td>\n      <td>65.540314</td>\n      <td>11</td>\n    </tr>\n    <tr>\n      <th>3</th>\n      <td>3544674788</td>\n      <td>23</td>\n      <td>2024-02-15 08:28:35.887</td>\n      <td>2024-02-15 08:52:51.310</td>\n      <td>2024-02-15 08:23:50.733</td>\n      <td>1.0</td>\n      <td>57.101444</td>\n      <td>65.592384</td>\n      <td>27</td>\n    </tr>\n    <tr>\n      <th>4</th>\n      <td>3544741846</td>\n      <td>4</td>\n      <td>2024-02-15 14:00:28.757</td>\n      <td>2024-02-15 14:02:38.143</td>\n      <td>2024-02-15 13:54:06.180</td>\n      <td>1.0</td>\n      <td>57.122231</td>\n      <td>65.526054</td>\n      <td>27</td>\n    </tr>\n    <tr>\n      <th>...</th>\n      <td>...</td>\n      <td>...</td>\n      <td>...</td>\n      <td>...</td>\n      <td>...</td>\n      <td>...</td>\n      <td>...</td>\n      <td>...</td>\n      <td>...</td>\n    </tr>\n    <tr>\n      <th>145643</th>\n      <td>3549307840</td>\n      <td>20</td>\n      <td>2024-03-12 13:11:00.257</td>\n      <td>2024-03-12 13:27:48.380</td>\n      <td>2024-03-12 13:10:20.693</td>\n      <td>1.0</td>\n      <td>57.101452</td>\n      <td>65.577003</td>\n      <td>1084</td>\n    </tr>\n    <tr>\n      <th>145644</th>\n      <td>3549335321</td>\n      <td>16</td>\n      <td>2024-03-12 16:35:31.980</td>\n      <td>2024-03-12 16:50:10.303</td>\n      <td>2024-03-12 16:34:24.670</td>\n      <td>1.0</td>\n      <td>57.204575</td>\n      <td>65.602242</td>\n      <td>1084</td>\n    </tr>\n    <tr>\n      <th>145645</th>\n      <td>3549440079</td>\n      <td>15</td>\n      <td>2024-03-13 12:20:30.407</td>\n      <td>2024-03-13 12:36:55.087</td>\n      <td>2024-03-13 12:09:17.090</td>\n      <td>1.0</td>\n      <td>57.110733</td>\n      <td>65.573792</td>\n      <td>1084</td>\n    </tr>\n    <tr>\n      <th>145646</th>\n      <td>3549478652</td>\n      <td>15</td>\n      <td>2024-03-13 17:39:13.897</td>\n      <td>2024-03-13 17:45:17.017</td>\n      <td>2024-03-13 16:59:03.620</td>\n      <td>1.0</td>\n      <td>57.115326</td>\n      <td>65.560928</td>\n      <td>1084</td>\n    </tr>\n    <tr>\n      <th>145647</th>\n      <td>3549499846</td>\n      <td>18</td>\n      <td>2024-03-13 23:46:41.800</td>\n      <td>2024-03-14 00:05:44.097</td>\n      <td>2024-03-13 23:44:52.303</td>\n      <td>1.0</td>\n      <td>57.115326</td>\n      <td>65.560928</td>\n      <td>1084</td>\n    </tr>\n  </tbody>\n</table>\n<p>145648 rows × 9 columns</p>\n</div>"
     },
     "metadata": {},
     "output_type": "display_data"
    }
   ],
   "source": [
    "#задаем путь до файла\n",
    "orders_data_path = r'C:\\Users\\PC\\Desktop\\diploma\\Data\\TumenData\\TumenOrders.csv'\n",
    "\n",
    "#загружаем данные в датафрейм\n",
    "orders_data = pd.read_csv(orders_data_path,\n",
    "                          dtype={'OrderId': 'uint32', 'EstimatedTimeArrival': 'int16', 'LoadArea': 'float32',\n",
    "                                 'FeedPointLatitude': 'float32', 'FeedPointLongitude': 'float32',\n",
    "                                 'TariffTypeId': 'uint32'},\n",
    "                          parse_dates=['SetDriverDate', 'ArrivalDriverDate', 'OrderCreationDate'],\n",
    "                          date_format=\"%Y-%m-%d %H:%M:%S.%f\")\n",
    "\n",
    "#выводим результат\n",
    "display(orders_data)"
   ],
   "metadata": {
    "collapsed": false,
    "ExecuteTime": {
     "end_time": "2024-04-11T15:25:54.569414Z",
     "start_time": "2024-04-11T15:25:52.741425Z"
    }
   },
   "id": "a93f391015860b31",
   "execution_count": 65
  },
  {
   "cell_type": "code",
   "outputs": [
    {
     "data": {
      "text/plain": "           OrderId  EstimatedTimeArrival           SetDriverDate  \\\n0       3546241840                     2 2024-02-23 04:57:42.457   \n1       3548209178                     3 2024-03-06 11:28:11.437   \n2       3545181356                    10 2024-02-17 13:36:35.753   \n3       3544674788                    23 2024-02-15 08:28:35.887   \n4       3544741846                     4 2024-02-15 14:00:28.757   \n...            ...                   ...                     ...   \n145643  3549307840                    20 2024-03-12 13:11:00.257   \n145644  3549335321                    16 2024-03-12 16:35:31.980   \n145645  3549440079                    15 2024-03-13 12:20:30.407   \n145646  3549478652                    15 2024-03-13 17:39:13.897   \n145647  3549499846                    18 2024-03-13 23:46:41.800   \n\n             ArrivalDriverDate       OrderCreationDate  LoadArea  \\\n0      2024-02-23 04:57:50.783 2024-02-23 09:55:57.640       1.0   \n1      2024-03-06 11:28:42.560 2024-03-06 16:26:13.280       1.0   \n2      2024-02-17 13:45:52.593 2024-02-17 18:34:06.520       1.0   \n3      2024-02-15 08:52:51.310 2024-02-15 13:23:50.733       1.0   \n4      2024-02-15 14:02:38.143 2024-02-15 18:54:06.180       1.0   \n...                        ...                     ...       ...   \n145643 2024-03-12 13:27:48.380 2024-03-12 18:10:20.693       1.0   \n145644 2024-03-12 16:50:10.303 2024-03-12 21:34:24.670       1.0   \n145645 2024-03-13 12:36:55.087 2024-03-13 17:09:17.090       1.0   \n145646 2024-03-13 17:45:17.017 2024-03-13 21:59:03.620       1.0   \n145647 2024-03-14 00:05:44.097 2024-03-14 04:44:52.303       1.0   \n\n        FeedPointLatitude  FeedPointLongitude  TariffTTypeId  \n0               57.150726           65.534576             66  \n1               57.150726           65.534576             66  \n2               57.150612           65.540314             11  \n3               57.101444           65.592384             27  \n4               57.122231           65.526054             27  \n...                   ...                 ...            ...  \n145643          57.101452           65.577003           1084  \n145644          57.204575           65.602242           1084  \n145645          57.110733           65.573792           1084  \n145646          57.115326           65.560928           1084  \n145647          57.115326           65.560928           1084  \n\n[145648 rows x 9 columns]",
      "text/html": "<div>\n<style scoped>\n    .dataframe tbody tr th:only-of-type {\n        vertical-align: middle;\n    }\n\n    .dataframe tbody tr th {\n        vertical-align: top;\n    }\n\n    .dataframe thead th {\n        text-align: right;\n    }\n</style>\n<table border=\"1\" class=\"dataframe\">\n  <thead>\n    <tr style=\"text-align: right;\">\n      <th></th>\n      <th>OrderId</th>\n      <th>EstimatedTimeArrival</th>\n      <th>SetDriverDate</th>\n      <th>ArrivalDriverDate</th>\n      <th>OrderCreationDate</th>\n      <th>LoadArea</th>\n      <th>FeedPointLatitude</th>\n      <th>FeedPointLongitude</th>\n      <th>TariffTTypeId</th>\n    </tr>\n  </thead>\n  <tbody>\n    <tr>\n      <th>0</th>\n      <td>3546241840</td>\n      <td>2</td>\n      <td>2024-02-23 04:57:42.457</td>\n      <td>2024-02-23 04:57:50.783</td>\n      <td>2024-02-23 09:55:57.640</td>\n      <td>1.0</td>\n      <td>57.150726</td>\n      <td>65.534576</td>\n      <td>66</td>\n    </tr>\n    <tr>\n      <th>1</th>\n      <td>3548209178</td>\n      <td>3</td>\n      <td>2024-03-06 11:28:11.437</td>\n      <td>2024-03-06 11:28:42.560</td>\n      <td>2024-03-06 16:26:13.280</td>\n      <td>1.0</td>\n      <td>57.150726</td>\n      <td>65.534576</td>\n      <td>66</td>\n    </tr>\n    <tr>\n      <th>2</th>\n      <td>3545181356</td>\n      <td>10</td>\n      <td>2024-02-17 13:36:35.753</td>\n      <td>2024-02-17 13:45:52.593</td>\n      <td>2024-02-17 18:34:06.520</td>\n      <td>1.0</td>\n      <td>57.150612</td>\n      <td>65.540314</td>\n      <td>11</td>\n    </tr>\n    <tr>\n      <th>3</th>\n      <td>3544674788</td>\n      <td>23</td>\n      <td>2024-02-15 08:28:35.887</td>\n      <td>2024-02-15 08:52:51.310</td>\n      <td>2024-02-15 13:23:50.733</td>\n      <td>1.0</td>\n      <td>57.101444</td>\n      <td>65.592384</td>\n      <td>27</td>\n    </tr>\n    <tr>\n      <th>4</th>\n      <td>3544741846</td>\n      <td>4</td>\n      <td>2024-02-15 14:00:28.757</td>\n      <td>2024-02-15 14:02:38.143</td>\n      <td>2024-02-15 18:54:06.180</td>\n      <td>1.0</td>\n      <td>57.122231</td>\n      <td>65.526054</td>\n      <td>27</td>\n    </tr>\n    <tr>\n      <th>...</th>\n      <td>...</td>\n      <td>...</td>\n      <td>...</td>\n      <td>...</td>\n      <td>...</td>\n      <td>...</td>\n      <td>...</td>\n      <td>...</td>\n      <td>...</td>\n    </tr>\n    <tr>\n      <th>145643</th>\n      <td>3549307840</td>\n      <td>20</td>\n      <td>2024-03-12 13:11:00.257</td>\n      <td>2024-03-12 13:27:48.380</td>\n      <td>2024-03-12 18:10:20.693</td>\n      <td>1.0</td>\n      <td>57.101452</td>\n      <td>65.577003</td>\n      <td>1084</td>\n    </tr>\n    <tr>\n      <th>145644</th>\n      <td>3549335321</td>\n      <td>16</td>\n      <td>2024-03-12 16:35:31.980</td>\n      <td>2024-03-12 16:50:10.303</td>\n      <td>2024-03-12 21:34:24.670</td>\n      <td>1.0</td>\n      <td>57.204575</td>\n      <td>65.602242</td>\n      <td>1084</td>\n    </tr>\n    <tr>\n      <th>145645</th>\n      <td>3549440079</td>\n      <td>15</td>\n      <td>2024-03-13 12:20:30.407</td>\n      <td>2024-03-13 12:36:55.087</td>\n      <td>2024-03-13 17:09:17.090</td>\n      <td>1.0</td>\n      <td>57.110733</td>\n      <td>65.573792</td>\n      <td>1084</td>\n    </tr>\n    <tr>\n      <th>145646</th>\n      <td>3549478652</td>\n      <td>15</td>\n      <td>2024-03-13 17:39:13.897</td>\n      <td>2024-03-13 17:45:17.017</td>\n      <td>2024-03-13 21:59:03.620</td>\n      <td>1.0</td>\n      <td>57.115326</td>\n      <td>65.560928</td>\n      <td>1084</td>\n    </tr>\n    <tr>\n      <th>145647</th>\n      <td>3549499846</td>\n      <td>18</td>\n      <td>2024-03-13 23:46:41.800</td>\n      <td>2024-03-14 00:05:44.097</td>\n      <td>2024-03-14 04:44:52.303</td>\n      <td>1.0</td>\n      <td>57.115326</td>\n      <td>65.560928</td>\n      <td>1084</td>\n    </tr>\n  </tbody>\n</table>\n<p>145648 rows × 9 columns</p>\n</div>"
     },
     "metadata": {},
     "output_type": "display_data"
    }
   ],
   "source": [
    "#задаем смещение времени относительно UTC\n",
    "tumen_delta_time = datetime.timedelta(hours=5)\n",
    "\n",
    "#применяем смещение к столбцу с временем создания заказа\n",
    "orders_data['OrderCreationDate'] = orders_data['OrderCreationDate'] + tumen_delta_time\n",
    "\n",
    "#выводим результат\n",
    "display(orders_data)"
   ],
   "metadata": {
    "collapsed": false,
    "ExecuteTime": {
     "end_time": "2024-04-11T15:25:54.586128Z",
     "start_time": "2024-04-11T15:25:54.570474Z"
    }
   },
   "id": "91e43f992c5f4c6d",
   "execution_count": 66
  },
  {
   "cell_type": "code",
   "outputs": [
    {
     "data": {
      "text/plain": "           Date\n0    2024-01-01\n1    2024-01-02\n2    2024-01-03\n3    2024-01-04\n4    2024-01-05\n..          ...\n113  2024-12-21\n114  2024-12-22\n115  2024-12-29\n116  2024-12-30\n117  2024-12-31\n\n[118 rows x 1 columns]",
      "text/html": "<div>\n<style scoped>\n    .dataframe tbody tr th:only-of-type {\n        vertical-align: middle;\n    }\n\n    .dataframe tbody tr th {\n        vertical-align: top;\n    }\n\n    .dataframe thead th {\n        text-align: right;\n    }\n</style>\n<table border=\"1\" class=\"dataframe\">\n  <thead>\n    <tr style=\"text-align: right;\">\n      <th></th>\n      <th>Date</th>\n    </tr>\n  </thead>\n  <tbody>\n    <tr>\n      <th>0</th>\n      <td>2024-01-01</td>\n    </tr>\n    <tr>\n      <th>1</th>\n      <td>2024-01-02</td>\n    </tr>\n    <tr>\n      <th>2</th>\n      <td>2024-01-03</td>\n    </tr>\n    <tr>\n      <th>3</th>\n      <td>2024-01-04</td>\n    </tr>\n    <tr>\n      <th>4</th>\n      <td>2024-01-05</td>\n    </tr>\n    <tr>\n      <th>...</th>\n      <td>...</td>\n    </tr>\n    <tr>\n      <th>113</th>\n      <td>2024-12-21</td>\n    </tr>\n    <tr>\n      <th>114</th>\n      <td>2024-12-22</td>\n    </tr>\n    <tr>\n      <th>115</th>\n      <td>2024-12-29</td>\n    </tr>\n    <tr>\n      <th>116</th>\n      <td>2024-12-30</td>\n    </tr>\n    <tr>\n      <th>117</th>\n      <td>2024-12-31</td>\n    </tr>\n  </tbody>\n</table>\n<p>118 rows × 1 columns</p>\n</div>"
     },
     "metadata": {},
     "output_type": "display_data"
    }
   ],
   "source": [
    "#задаем путь до файла\n",
    "days_off_path = r'C:\\Users\\PC\\Desktop\\diploma\\Data\\TumenData\\DaysOff2024.csv'\n",
    "\n",
    "#загружаем данные в датафрейм\n",
    "days_off = pd.read_csv(days_off_path, parse_dates=['Date'], date_format=\"%Y-%m-%d\")\n",
    "\n",
    "#оставляем только дату\n",
    "days_off['Date'] = [date.date() for date in days_off['Date']]\n",
    "\n",
    "#выводим результат\n",
    "display(days_off)"
   ],
   "metadata": {
    "collapsed": false,
    "ExecuteTime": {
     "end_time": "2024-04-11T15:25:54.841573Z",
     "start_time": "2024-04-11T15:25:54.826990Z"
    }
   },
   "id": "8a9dc0b9f2730035",
   "execution_count": 67
  },
  {
   "cell_type": "code",
   "outputs": [
    {
     "name": "stdout",
     "output_type": "stream",
     "text": [
      "51292\n"
     ]
    }
   ],
   "source": [
    "#формируем признак \"был выходной день\"\n",
    "orders_data['IsWeekend'] = [1 if date_time.date() in days_off['Date'].values else 0 for date_time in\n",
    "                            orders_data['OrderCreationDate']]\n",
    "\n",
    "#выводим количество заказов, совершенных в выходной день\n",
    "print(orders_data['IsWeekend'].sum())"
   ],
   "metadata": {
    "collapsed": false,
    "ExecuteTime": {
     "end_time": "2024-04-11T15:25:58.673799Z",
     "start_time": "2024-04-11T15:25:55.455756Z"
    }
   },
   "id": "490c76dd19073b90",
   "execution_count": 68
  },
  {
   "cell_type": "code",
   "outputs": [
    {
     "name": "stdout",
     "output_type": "stream",
     "text": [
      "43822\n"
     ]
    }
   ],
   "source": [
    "#задаем границы часов пик\n",
    "rush_hour_time = [datetime.time(6, 0, 0), datetime.time(9, 0, 0), datetime.time(16, 0, 0), datetime.time(19, 0, 0)]\n",
    "\n",
    "#задаем анонимную функцию, проверяющую выполнялся ли заказ в час пик\n",
    "is_rush_hour = lambda time: rush_hour_time[0] <= time <= rush_hour_time[1] or rush_hour_time[2] <= time <= \\\n",
    "                            rush_hour_time[3]\n",
    "\n",
    "#формируем признак \"был час пик\"\n",
    "orders_data['IsRushHour'] = [1 if is_rush_hour(date_time.time()) else 0 for date_time in\n",
    "                             orders_data['OrderCreationDate']]\n",
    "\n",
    "#выводим количество заказов, совершенных в час пик\n",
    "print(orders_data['IsRushHour'].sum())"
   ],
   "metadata": {
    "collapsed": false,
    "ExecuteTime": {
     "end_time": "2024-04-11T15:25:58.923804Z",
     "start_time": "2024-04-11T15:25:58.675134Z"
    }
   },
   "id": "2191bb77eec5eda",
   "execution_count": 69
  },
  {
   "cell_type": "code",
   "outputs": [],
   "source": [
    "#создаем функцию для определения были ли осадки, принимаем на вход количество осадков\n",
    "def check_has_precipitation(amount_precipitation):\n",
    "    #пытаемся конвертировать количество осадков к float и проверить были ли осадки\n",
    "    try:\n",
    "        float_amount_precipitation = float(amount_precipitation)\n",
    "        return float_amount_precipitation > 0\n",
    "    #на вход может прийти текст, о том что осадков не было\n",
    "    except ValueError:\n",
    "        return False"
   ],
   "metadata": {
    "collapsed": false,
    "ExecuteTime": {
     "end_time": "2024-04-11T15:25:58.932116Z",
     "start_time": "2024-04-11T15:25:58.925073Z"
    }
   },
   "id": "bab008b700e1c3a5",
   "execution_count": 70
  },
  {
   "cell_type": "code",
   "outputs": [
    {
     "data": {
      "text/plain": "                   Date  HasPrecipitation\n0   2024-03-14 23:00:00                 0\n1   2024-03-14 20:00:00                 1\n2   2024-03-14 17:00:00                 0\n3   2024-03-14 14:00:00                 0\n4   2024-03-14 11:00:00                 0\n..                  ...               ...\n227 2024-02-15 14:00:00                 0\n228 2024-02-15 11:00:00                 0\n229 2024-02-15 08:00:00                 0\n230 2024-02-15 05:00:00                 0\n231 2024-02-15 02:00:00                 0\n\n[232 rows x 2 columns]",
      "text/html": "<div>\n<style scoped>\n    .dataframe tbody tr th:only-of-type {\n        vertical-align: middle;\n    }\n\n    .dataframe tbody tr th {\n        vertical-align: top;\n    }\n\n    .dataframe thead th {\n        text-align: right;\n    }\n</style>\n<table border=\"1\" class=\"dataframe\">\n  <thead>\n    <tr style=\"text-align: right;\">\n      <th></th>\n      <th>Date</th>\n      <th>HasPrecipitation</th>\n    </tr>\n  </thead>\n  <tbody>\n    <tr>\n      <th>0</th>\n      <td>2024-03-14 23:00:00</td>\n      <td>0</td>\n    </tr>\n    <tr>\n      <th>1</th>\n      <td>2024-03-14 20:00:00</td>\n      <td>1</td>\n    </tr>\n    <tr>\n      <th>2</th>\n      <td>2024-03-14 17:00:00</td>\n      <td>0</td>\n    </tr>\n    <tr>\n      <th>3</th>\n      <td>2024-03-14 14:00:00</td>\n      <td>0</td>\n    </tr>\n    <tr>\n      <th>4</th>\n      <td>2024-03-14 11:00:00</td>\n      <td>0</td>\n    </tr>\n    <tr>\n      <th>...</th>\n      <td>...</td>\n      <td>...</td>\n    </tr>\n    <tr>\n      <th>227</th>\n      <td>2024-02-15 14:00:00</td>\n      <td>0</td>\n    </tr>\n    <tr>\n      <th>228</th>\n      <td>2024-02-15 11:00:00</td>\n      <td>0</td>\n    </tr>\n    <tr>\n      <th>229</th>\n      <td>2024-02-15 08:00:00</td>\n      <td>0</td>\n    </tr>\n    <tr>\n      <th>230</th>\n      <td>2024-02-15 05:00:00</td>\n      <td>0</td>\n    </tr>\n    <tr>\n      <th>231</th>\n      <td>2024-02-15 02:00:00</td>\n      <td>0</td>\n    </tr>\n  </tbody>\n</table>\n<p>232 rows × 2 columns</p>\n</div>"
     },
     "metadata": {},
     "output_type": "display_data"
    }
   ],
   "source": [
    "#задаем путь до файла\n",
    "weather_data_path = r'C:\\Users\\PC\\Desktop\\diploma\\Data\\TumenData\\TumenWeather.csv'\n",
    "\n",
    "#загружаем данные в датафрейм\n",
    "weather_data = pd.read_csv(weather_data_path, parse_dates=['Date'], dayfirst=True, sep=';')\n",
    "\n",
    "#формируем признак \"были ли осадки\"\n",
    "weather_data['HasPrecipitation'] = weather_data['RRR'].apply(lambda x: int(check_has_precipitation(x)))\n",
    "\n",
    "#оставляем только дату и признак\n",
    "weather_data = weather_data[['Date', 'HasPrecipitation']]\n",
    "\n",
    "#выводим результат\n",
    "display(weather_data)"
   ],
   "metadata": {
    "collapsed": false,
    "ExecuteTime": {
     "end_time": "2024-04-11T15:25:58.955693Z",
     "start_time": "2024-04-11T15:25:58.934832Z"
    }
   },
   "id": "e1293a61f1168ac3",
   "execution_count": 71
  },
  {
   "cell_type": "code",
   "outputs": [
    {
     "data": {
      "text/plain": "4239"
     },
     "metadata": {},
     "output_type": "display_data"
    }
   ],
   "source": [
    "#объединяем заказы с погодой, получаем все сочетания\n",
    "orders_with_weather_data = pd.merge(orders_data, weather_data, how='cross')\n",
    "\n",
    "#вычисляем разницу во времени\n",
    "orders_with_weather_data['DeltaTime'] = orders_with_weather_data['Date'] - orders_with_weather_data['OrderCreationDate']\n",
    "\n",
    "#оставляем те варианты, где время создания заказа меньше временных отметок о погоде \n",
    "orders_with_weather_data = orders_with_weather_data[orders_with_weather_data['DeltaTime'] > datetime.timedelta(0)]\n",
    "\n",
    "#сортируем, чтобы найти ближайшую отметку для заказа, группируем и берем первый элемент в каждой группе\n",
    "orders_data = orders_with_weather_data.sort_values(by=['DeltaTime']).groupby('OrderId', as_index=False).first()\n",
    "\n",
    "#выводим результат\n",
    "display(orders_data['HasPrecipitation'].sum())"
   ],
   "metadata": {
    "collapsed": false,
    "ExecuteTime": {
     "end_time": "2024-04-11T15:26:14.707236Z",
     "start_time": "2024-04-11T15:25:58.956328Z"
    }
   },
   "id": "9b83b30ce3c8c673",
   "execution_count": 72
  },
  {
   "cell_type": "code",
   "outputs": [
    {
     "data": {
      "text/plain": "                            date  driverid  driverlatitude  driverlongitude\n0        2024-02-28 10:12:19.875   3055334       57.147938        65.541496\n1        2024-02-28 10:12:23.925   3055334       57.147942        65.541504\n2        2024-02-28 10:13:20.542   3055334       57.147961        65.541451\n3        2024-02-28 10:13:55.698   3055334       57.147953        65.541428\n4        2024-02-28 10:14:56.750   3055334       57.148476        65.540443\n...                          ...       ...             ...              ...\n37560034 2024-02-27 19:26:20.765  14160477       57.137123        65.539810\n37560035 2024-02-27 19:26:55.718  14160477       57.137070        65.539818\n37560036 2024-02-27 19:27:30.706  14160477       57.137058        65.539810\n37560037 2024-02-27 19:28:05.718  14160477       57.137058        65.539810\n37560038 2024-02-27 19:28:40.738  14160477       57.137058        65.539810\n\n[37560039 rows x 4 columns]",
      "text/html": "<div>\n<style scoped>\n    .dataframe tbody tr th:only-of-type {\n        vertical-align: middle;\n    }\n\n    .dataframe tbody tr th {\n        vertical-align: top;\n    }\n\n    .dataframe thead th {\n        text-align: right;\n    }\n</style>\n<table border=\"1\" class=\"dataframe\">\n  <thead>\n    <tr style=\"text-align: right;\">\n      <th></th>\n      <th>date</th>\n      <th>driverid</th>\n      <th>driverlatitude</th>\n      <th>driverlongitude</th>\n    </tr>\n  </thead>\n  <tbody>\n    <tr>\n      <th>0</th>\n      <td>2024-02-28 10:12:19.875</td>\n      <td>3055334</td>\n      <td>57.147938</td>\n      <td>65.541496</td>\n    </tr>\n    <tr>\n      <th>1</th>\n      <td>2024-02-28 10:12:23.925</td>\n      <td>3055334</td>\n      <td>57.147942</td>\n      <td>65.541504</td>\n    </tr>\n    <tr>\n      <th>2</th>\n      <td>2024-02-28 10:13:20.542</td>\n      <td>3055334</td>\n      <td>57.147961</td>\n      <td>65.541451</td>\n    </tr>\n    <tr>\n      <th>3</th>\n      <td>2024-02-28 10:13:55.698</td>\n      <td>3055334</td>\n      <td>57.147953</td>\n      <td>65.541428</td>\n    </tr>\n    <tr>\n      <th>4</th>\n      <td>2024-02-28 10:14:56.750</td>\n      <td>3055334</td>\n      <td>57.148476</td>\n      <td>65.540443</td>\n    </tr>\n    <tr>\n      <th>...</th>\n      <td>...</td>\n      <td>...</td>\n      <td>...</td>\n      <td>...</td>\n    </tr>\n    <tr>\n      <th>37560034</th>\n      <td>2024-02-27 19:26:20.765</td>\n      <td>14160477</td>\n      <td>57.137123</td>\n      <td>65.539810</td>\n    </tr>\n    <tr>\n      <th>37560035</th>\n      <td>2024-02-27 19:26:55.718</td>\n      <td>14160477</td>\n      <td>57.137070</td>\n      <td>65.539818</td>\n    </tr>\n    <tr>\n      <th>37560036</th>\n      <td>2024-02-27 19:27:30.706</td>\n      <td>14160477</td>\n      <td>57.137058</td>\n      <td>65.539810</td>\n    </tr>\n    <tr>\n      <th>37560037</th>\n      <td>2024-02-27 19:28:05.718</td>\n      <td>14160477</td>\n      <td>57.137058</td>\n      <td>65.539810</td>\n    </tr>\n    <tr>\n      <th>37560038</th>\n      <td>2024-02-27 19:28:40.738</td>\n      <td>14160477</td>\n      <td>57.137058</td>\n      <td>65.539810</td>\n    </tr>\n  </tbody>\n</table>\n<p>37560039 rows × 4 columns</p>\n</div>"
     },
     "metadata": {},
     "output_type": "display_data"
    }
   ],
   "source": [
    "#задаем путь до файла\n",
    "tumen_drivers_path = r'C:\\Users\\PC\\Desktop\\diploma\\Data\\TumenData\\TumenDrivers.csv'\n",
    "\n",
    "#загружаем данные в датафрейм\n",
    "tumen_drivers = pd.read_csv(tumen_drivers_path,\n",
    "                            dtype={'driverid': 'uint32', 'driverlatitude': 'float32', 'driverlongitude': 'float32'},\n",
    "                            parse_dates=['date'], date_format=\"%Y-%m-%d %H:%M:%S.%f\")\n",
    "\n",
    "#применяем смещение к столбцу с временем \n",
    "tumen_drivers['date'] = tumen_drivers['date'] + tumen_delta_time\n",
    "\n",
    "#выводим результат\n",
    "display(tumen_drivers)"
   ],
   "metadata": {
    "collapsed": false,
    "ExecuteTime": {
     "end_time": "2024-04-11T15:28:37.301084Z",
     "start_time": "2024-04-11T15:26:14.711499Z"
    }
   },
   "id": "68fce2aa087ec7bd",
   "execution_count": 73
  },
  {
   "cell_type": "code",
   "outputs": [
    {
     "data": {
      "text/plain": "0            3055334\n187          3076862\n243          3015408\n511          3086835\n513           309575\n              ...   \n37497369    14950055\n37503201    14600199\n37550655    11068178\n37556391    14143057\n37559597    14158826\nName: driverid, Length: 13555, dtype: uint32"
     },
     "metadata": {},
     "output_type": "display_data"
    }
   ],
   "source": [
    "#получаем всех уникальных водителей\n",
    "tumen_unique_drivers = tumen_drivers['driverid'].drop_duplicates()\n",
    "\n",
    "#выводим результат\n",
    "display(tumen_unique_drivers)"
   ],
   "metadata": {
    "collapsed": false,
    "ExecuteTime": {
     "end_time": "2024-04-11T15:33:22.341871Z",
     "start_time": "2024-04-11T15:33:22.100646Z"
    }
   },
   "id": "626352884828011",
   "execution_count": 81
  },
  {
   "cell_type": "code",
   "outputs": [
    {
     "data": {
      "text/plain": "         DriverId    AutoId\n0          100016  11879094\n1          100039   6805230\n2          100056   3794953\n3          100056   5566330\n4          100056  16216391\n...           ...       ...\n4339950  15010577  16652667\n4339951  15010591   5400362\n4339952  15010591  16652692\n4339953  15010594  16652691\n4339954  15010614  16652740\n\n[4339955 rows x 2 columns]",
      "text/html": "<div>\n<style scoped>\n    .dataframe tbody tr th:only-of-type {\n        vertical-align: middle;\n    }\n\n    .dataframe tbody tr th {\n        vertical-align: top;\n    }\n\n    .dataframe thead th {\n        text-align: right;\n    }\n</style>\n<table border=\"1\" class=\"dataframe\">\n  <thead>\n    <tr style=\"text-align: right;\">\n      <th></th>\n      <th>DriverId</th>\n      <th>AutoId</th>\n    </tr>\n  </thead>\n  <tbody>\n    <tr>\n      <th>0</th>\n      <td>100016</td>\n      <td>11879094</td>\n    </tr>\n    <tr>\n      <th>1</th>\n      <td>100039</td>\n      <td>6805230</td>\n    </tr>\n    <tr>\n      <th>2</th>\n      <td>100056</td>\n      <td>3794953</td>\n    </tr>\n    <tr>\n      <th>3</th>\n      <td>100056</td>\n      <td>5566330</td>\n    </tr>\n    <tr>\n      <th>4</th>\n      <td>100056</td>\n      <td>16216391</td>\n    </tr>\n    <tr>\n      <th>...</th>\n      <td>...</td>\n      <td>...</td>\n    </tr>\n    <tr>\n      <th>4339950</th>\n      <td>15010577</td>\n      <td>16652667</td>\n    </tr>\n    <tr>\n      <th>4339951</th>\n      <td>15010591</td>\n      <td>5400362</td>\n    </tr>\n    <tr>\n      <th>4339952</th>\n      <td>15010591</td>\n      <td>16652692</td>\n    </tr>\n    <tr>\n      <th>4339953</th>\n      <td>15010594</td>\n      <td>16652691</td>\n    </tr>\n    <tr>\n      <th>4339954</th>\n      <td>15010614</td>\n      <td>16652740</td>\n    </tr>\n  </tbody>\n</table>\n<p>4339955 rows × 2 columns</p>\n</div>"
     },
     "metadata": {},
     "output_type": "display_data"
    }
   ],
   "source": [
    "#задаем путь до файла\n",
    "drivers_with_auto_path = r'C:\\Users\\PC\\Desktop\\diploma\\Data\\TumenData\\DriversWithAuto.csv'\n",
    "\n",
    "#загружаем данные в датафрейм\n",
    "drivers_with_auto = pd.read_csv(drivers_with_auto_path)\n",
    "\n",
    "#выводим результат\n",
    "display(drivers_with_auto)"
   ],
   "metadata": {
    "collapsed": false,
    "ExecuteTime": {
     "end_time": "2024-04-11T15:33:23.620338Z",
     "start_time": "2024-04-11T15:33:22.772423Z"
    }
   },
   "id": "b01e0083b6839bcd",
   "execution_count": 82
  },
  {
   "cell_type": "code",
   "outputs": [
    {
     "data": {
      "text/plain": "       driverid    DriverId      AutoId\n0       3055334   3055334.0  16651637.0\n1       3076862   3076862.0   9416158.0\n2       3015408   3015408.0  12707818.0\n3       3015408   3015408.0  13183526.0\n4       3086835   3086835.0   5495905.0\n...         ...         ...         ...\n19054  14950055  14950055.0  16562931.0\n19055  14600199  14600199.0  16075218.0\n19056  11068178  11068178.0  12185497.0\n19057  14143057  14143057.0  15446828.0\n19058  14158826  14158826.0  16335536.0\n\n[18917 rows x 3 columns]",
      "text/html": "<div>\n<style scoped>\n    .dataframe tbody tr th:only-of-type {\n        vertical-align: middle;\n    }\n\n    .dataframe tbody tr th {\n        vertical-align: top;\n    }\n\n    .dataframe thead th {\n        text-align: right;\n    }\n</style>\n<table border=\"1\" class=\"dataframe\">\n  <thead>\n    <tr style=\"text-align: right;\">\n      <th></th>\n      <th>driverid</th>\n      <th>DriverId</th>\n      <th>AutoId</th>\n    </tr>\n  </thead>\n  <tbody>\n    <tr>\n      <th>0</th>\n      <td>3055334</td>\n      <td>3055334.0</td>\n      <td>16651637.0</td>\n    </tr>\n    <tr>\n      <th>1</th>\n      <td>3076862</td>\n      <td>3076862.0</td>\n      <td>9416158.0</td>\n    </tr>\n    <tr>\n      <th>2</th>\n      <td>3015408</td>\n      <td>3015408.0</td>\n      <td>12707818.0</td>\n    </tr>\n    <tr>\n      <th>3</th>\n      <td>3015408</td>\n      <td>3015408.0</td>\n      <td>13183526.0</td>\n    </tr>\n    <tr>\n      <th>4</th>\n      <td>3086835</td>\n      <td>3086835.0</td>\n      <td>5495905.0</td>\n    </tr>\n    <tr>\n      <th>...</th>\n      <td>...</td>\n      <td>...</td>\n      <td>...</td>\n    </tr>\n    <tr>\n      <th>19054</th>\n      <td>14950055</td>\n      <td>14950055.0</td>\n      <td>16562931.0</td>\n    </tr>\n    <tr>\n      <th>19055</th>\n      <td>14600199</td>\n      <td>14600199.0</td>\n      <td>16075218.0</td>\n    </tr>\n    <tr>\n      <th>19056</th>\n      <td>11068178</td>\n      <td>11068178.0</td>\n      <td>12185497.0</td>\n    </tr>\n    <tr>\n      <th>19057</th>\n      <td>14143057</td>\n      <td>14143057.0</td>\n      <td>15446828.0</td>\n    </tr>\n    <tr>\n      <th>19058</th>\n      <td>14158826</td>\n      <td>14158826.0</td>\n      <td>16335536.0</td>\n    </tr>\n  </tbody>\n</table>\n<p>18917 rows × 3 columns</p>\n</div>"
     },
     "metadata": {},
     "output_type": "display_data"
    }
   ],
   "source": [
    "#объединяем водителей с их автомобилями\n",
    "tumen_drivers_with_auto = pd.merge(tumen_unique_drivers,\n",
    "                                   drivers_with_auto, left_on=['driverid'], right_on=['DriverId'], how='left')\n",
    "\n",
    "#удаляем некорректные данные \n",
    "tumen_drivers_with_auto = tumen_drivers_with_auto.dropna()\n",
    "\n",
    "#выводим результат\n",
    "display(tumen_drivers_with_auto)"
   ],
   "metadata": {
    "collapsed": false,
    "ExecuteTime": {
     "end_time": "2024-04-11T15:34:17.290211Z",
     "start_time": "2024-04-11T15:34:16.734106Z"
    }
   },
   "id": "9776e74c50cb424d",
   "execution_count": 83
  },
  {
   "cell_type": "code",
   "outputs": [
    {
     "data": {
      "text/plain": "array([[  100011,       27],\n       [  100011,       43],\n       [  100011,       67],\n       ...,\n       [14975464,     1429],\n       [14975464,     1430],\n       [14975464,     1475]])"
     },
     "metadata": {},
     "output_type": "display_data"
    }
   ],
   "source": [
    "#задаем url для получения списка доступных тарифов для водителей\n",
    "url = 'https://dev-drvtariff.taxsee.com/api/v1/tariffs/drivers/find-all'\n",
    "\n",
    "#создаем список, который будем заполнять данными вида [driver_id, tariff_type_id]\n",
    "available_drivers_tariffs = []\n",
    "\n",
    "#идем по каждому водителю\n",
    "for driver in tumen_drivers_with_auto.values:\n",
    "\n",
    "    #получаем id водителя\n",
    "    driverId = int(driver[0])\n",
    "\n",
    "    #формируем тело запроса\n",
    "    request = {\n",
    "        \"driverId\": str(driverId),\n",
    "        \"autoId\": str(int(driver[2])),\n",
    "        \"placeId\": 3\n",
    "    }\n",
    "\n",
    "    #отправляем запрос\n",
    "    response = requests.post(url, json=request)\n",
    "\n",
    "    #формируем нужные данные\n",
    "    for tariff in response.json()['tariffs']:\n",
    "        available_drivers_tariffs.append([driverId, tariff['tariffTypeId']])\n",
    "\n",
    "#оставляем уникальные значения, так как могут быть два автомобиля с пересекающимися тарифами \n",
    "available_drivers_tariffs = np.unique(available_drivers_tariffs, axis=0)\n",
    "\n",
    "#выводим результат\n",
    "display(available_drivers_tariffs)"
   ],
   "metadata": {
    "collapsed": false
   },
   "id": "d6205b917e7361fd",
   "execution_count": 84
  },
  {
   "cell_type": "code",
   "outputs": [],
   "source": [
    "#формируем из полученных данных датафрейм\n",
    "available_drivers_tariffs_df = pd.DataFrame(available_drivers_tariffs, columns=['DriverId', 'TariffTypeId']) "
   ],
   "metadata": {
    "collapsed": false,
    "ExecuteTime": {
     "end_time": "2024-04-12T19:32:17.733857Z",
     "start_time": "2024-04-12T19:32:17.729157Z"
    }
   },
   "id": "5d0dd9170eec5aba",
   "execution_count": 92
  },
  {
   "cell_type": "code",
   "outputs": [],
   "source": [
    "#создаем функция для расчета дистанции между водителем и точкой подачи\n",
    "def calculate_distance(driver_coord, feed_point):\n",
    "    return int(gd((driver_coord[2], driver_coord[3]),\n",
    "                  (feed_point['FeedPointLatitude'], feed_point['FeedPointLongitude'])).meters)"
   ],
   "metadata": {
    "collapsed": false,
    "ExecuteTime": {
     "end_time": "2024-04-11T18:11:22.776621Z",
     "start_time": "2024-04-11T18:11:22.773248Z"
    }
   },
   "id": "fb2ac3fdc5241b7c",
   "execution_count": 85
  },
  {
   "cell_type": "code",
   "outputs": [
    {
     "data": {
      "text/plain": "           OrderId  EstimatedTimeArrival           SetDriverDate  \\\n0       3544585460                     5 2024-02-15 00:18:53.997   \n1       3544585488                     4 2024-02-15 00:01:58.203   \n2       3544585545                     4 2024-02-15 00:10:47.800   \n3       3544585571                     3 2024-02-15 00:06:58.673   \n4       3544585572                     5 2024-02-15 00:05:40.380   \n...            ...                   ...                     ...   \n145643  3549499846                    18 2024-03-13 23:46:41.800   \n145644  3549499955                    10 2024-03-13 23:51:20.557   \n145645  3549499961                     4 2024-03-13 23:58:55.290   \n145646  3549500025                     5 2024-03-13 23:56:31.047   \n145647  3549500125                    12 2024-03-14 00:01:33.953   \n\n             ArrivalDriverDate       OrderCreationDate  LoadArea  \\\n0      2024-02-15 00:20:10.647 2024-02-15 05:00:25.540      1.25   \n1      2024-02-15 00:03:33.630 2024-02-15 05:00:58.053      1.35   \n2      2024-02-15 00:13:19.677 2024-02-15 05:02:45.250      1.20   \n3      2024-02-15 00:07:50.340 2024-02-15 05:03:29.623      1.25   \n4      2024-02-15 00:10:34.873 2024-02-15 05:03:29.733      1.35   \n...                        ...                     ...       ...   \n145643 2024-03-14 00:05:44.097 2024-03-14 04:44:52.303      1.00   \n145644 2024-03-14 00:02:07.323 2024-03-14 04:49:52.080      1.00   \n145645 2024-03-13 23:59:51.967 2024-03-14 04:50:22.870      1.25   \n145646 2024-03-14 00:00:43.637 2024-03-14 04:53:47.267      1.25   \n145647 2024-03-14 00:07:11.300 2024-03-14 04:59:51.620      1.35   \n\n        FeedPointLatitude  FeedPointLongitude  TariffTTypeId  IsWeekend  \\\n0               57.181877           65.656975           1448          0   \n1               57.127262           65.581718           1448          0   \n2               57.146118           65.522736           1448          0   \n3               57.146656           65.521637           1448          0   \n4               57.145397           65.585876           1448          0   \n...                   ...                 ...            ...        ...   \n145643          57.115326           65.560928           1084          0   \n145644          57.146118           65.522736           1448          0   \n145645          57.147602           65.642136           1448          0   \n145646          57.095970           65.566177           1448          0   \n145647          57.104553           65.549805           1448          0   \n\n        IsRushHour                Date  HasPrecipitation  \\\n0                0 2024-02-15 08:00:00                 0   \n1                0 2024-02-15 08:00:00                 0   \n2                0 2024-02-15 08:00:00                 0   \n3                0 2024-02-15 08:00:00                 0   \n4                0 2024-02-15 08:00:00                 0   \n...            ...                 ...               ...   \n145643           0 2024-03-14 05:00:00                 0   \n145644           0 2024-03-14 05:00:00                 0   \n145645           0 2024-03-14 05:00:00                 0   \n145646           0 2024-03-14 05:00:00                 0   \n145647           0 2024-03-14 05:00:00                 0   \n\n                    DeltaTime                            Drivers500m  \\\n0      0 days 02:59:34.460000                                     []   \n1      0 days 02:59:01.947000                              [5042474]   \n2      0 days 02:57:14.750000    [3025239, 315390, 316531, 14488831]   \n3      0 days 02:56:30.377000  [3025239, 3245830, 3640873, 10021315]   \n4      0 days 02:56:30.267000                                     []   \n...                       ...                                    ...   \n145643 0 days 00:15:07.697000          [3740217, 12470301, 14905267]   \n145644 0 days 00:10:07.920000     [308685, 311396, 3245830, 4513194]   \n145645 0 days 00:09:37.130000                                     []   \n145646 0 days 00:06:12.733000                             [14511477]   \n145647 0 days 00:00:08.380000                                     []   \n\n                                         Drivers1000m  \\\n0                                                  []   \n1       [4859949, 3747867, 3472695, 3142459, 5344482]   \n2                         [4581243, 3171468, 8296840]   \n3                         [4581243, 7052306, 8296840]   \n4                                          [14480359]   \n...                                               ...   \n145643                   [4189593, 4957320, 14773399]   \n145644                    [308481, 6417510, 14825782]   \n145645                                      [5412814]   \n145646                                             []   \n145647                                     [14203317]   \n\n                                             Drivers2000m  \n0                                     [4172379, 14163012]  \n1        [4469523, 4571339, 14928437, 14287289, 14756159]  \n2                  [3268447, 5711156, 14744763, 14925013]  \n3           [4694279, 316275, 3268447, 5711156, 12871837]  \n4       [4571339, 3142459, 5042474, 5344482, 14397518,...  \n...                                                   ...  \n145643  [4588470, 3775072, 6578362, 7124828, 9735935, ...  \n145644  [310388, 7650604, 8602004, 8925961, 5711156, 1...  \n145645                                 [4198055, 5959409]  \n145646                       [4517649, 9966948, 14905267]  \n145647   [9966948, 9735935, 14499797, 14905267, 14773399]  \n\n[145648 rows x 17 columns]",
      "text/html": "<div>\n<style scoped>\n    .dataframe tbody tr th:only-of-type {\n        vertical-align: middle;\n    }\n\n    .dataframe tbody tr th {\n        vertical-align: top;\n    }\n\n    .dataframe thead th {\n        text-align: right;\n    }\n</style>\n<table border=\"1\" class=\"dataframe\">\n  <thead>\n    <tr style=\"text-align: right;\">\n      <th></th>\n      <th>OrderId</th>\n      <th>EstimatedTimeArrival</th>\n      <th>SetDriverDate</th>\n      <th>ArrivalDriverDate</th>\n      <th>OrderCreationDate</th>\n      <th>LoadArea</th>\n      <th>FeedPointLatitude</th>\n      <th>FeedPointLongitude</th>\n      <th>TariffTTypeId</th>\n      <th>IsWeekend</th>\n      <th>IsRushHour</th>\n      <th>Date</th>\n      <th>HasPrecipitation</th>\n      <th>DeltaTime</th>\n      <th>Drivers500m</th>\n      <th>Drivers1000m</th>\n      <th>Drivers2000m</th>\n    </tr>\n  </thead>\n  <tbody>\n    <tr>\n      <th>0</th>\n      <td>3544585460</td>\n      <td>5</td>\n      <td>2024-02-15 00:18:53.997</td>\n      <td>2024-02-15 00:20:10.647</td>\n      <td>2024-02-15 05:00:25.540</td>\n      <td>1.25</td>\n      <td>57.181877</td>\n      <td>65.656975</td>\n      <td>1448</td>\n      <td>0</td>\n      <td>0</td>\n      <td>2024-02-15 08:00:00</td>\n      <td>0</td>\n      <td>0 days 02:59:34.460000</td>\n      <td>[]</td>\n      <td>[]</td>\n      <td>[4172379, 14163012]</td>\n    </tr>\n    <tr>\n      <th>1</th>\n      <td>3544585488</td>\n      <td>4</td>\n      <td>2024-02-15 00:01:58.203</td>\n      <td>2024-02-15 00:03:33.630</td>\n      <td>2024-02-15 05:00:58.053</td>\n      <td>1.35</td>\n      <td>57.127262</td>\n      <td>65.581718</td>\n      <td>1448</td>\n      <td>0</td>\n      <td>0</td>\n      <td>2024-02-15 08:00:00</td>\n      <td>0</td>\n      <td>0 days 02:59:01.947000</td>\n      <td>[5042474]</td>\n      <td>[4859949, 3747867, 3472695, 3142459, 5344482]</td>\n      <td>[4469523, 4571339, 14928437, 14287289, 14756159]</td>\n    </tr>\n    <tr>\n      <th>2</th>\n      <td>3544585545</td>\n      <td>4</td>\n      <td>2024-02-15 00:10:47.800</td>\n      <td>2024-02-15 00:13:19.677</td>\n      <td>2024-02-15 05:02:45.250</td>\n      <td>1.20</td>\n      <td>57.146118</td>\n      <td>65.522736</td>\n      <td>1448</td>\n      <td>0</td>\n      <td>0</td>\n      <td>2024-02-15 08:00:00</td>\n      <td>0</td>\n      <td>0 days 02:57:14.750000</td>\n      <td>[3025239, 315390, 316531, 14488831]</td>\n      <td>[4581243, 3171468, 8296840]</td>\n      <td>[3268447, 5711156, 14744763, 14925013]</td>\n    </tr>\n    <tr>\n      <th>3</th>\n      <td>3544585571</td>\n      <td>3</td>\n      <td>2024-02-15 00:06:58.673</td>\n      <td>2024-02-15 00:07:50.340</td>\n      <td>2024-02-15 05:03:29.623</td>\n      <td>1.25</td>\n      <td>57.146656</td>\n      <td>65.521637</td>\n      <td>1448</td>\n      <td>0</td>\n      <td>0</td>\n      <td>2024-02-15 08:00:00</td>\n      <td>0</td>\n      <td>0 days 02:56:30.377000</td>\n      <td>[3025239, 3245830, 3640873, 10021315]</td>\n      <td>[4581243, 7052306, 8296840]</td>\n      <td>[4694279, 316275, 3268447, 5711156, 12871837]</td>\n    </tr>\n    <tr>\n      <th>4</th>\n      <td>3544585572</td>\n      <td>5</td>\n      <td>2024-02-15 00:05:40.380</td>\n      <td>2024-02-15 00:10:34.873</td>\n      <td>2024-02-15 05:03:29.733</td>\n      <td>1.35</td>\n      <td>57.145397</td>\n      <td>65.585876</td>\n      <td>1448</td>\n      <td>0</td>\n      <td>0</td>\n      <td>2024-02-15 08:00:00</td>\n      <td>0</td>\n      <td>0 days 02:56:30.267000</td>\n      <td>[]</td>\n      <td>[14480359]</td>\n      <td>[4571339, 3142459, 5042474, 5344482, 14397518,...</td>\n    </tr>\n    <tr>\n      <th>...</th>\n      <td>...</td>\n      <td>...</td>\n      <td>...</td>\n      <td>...</td>\n      <td>...</td>\n      <td>...</td>\n      <td>...</td>\n      <td>...</td>\n      <td>...</td>\n      <td>...</td>\n      <td>...</td>\n      <td>...</td>\n      <td>...</td>\n      <td>...</td>\n      <td>...</td>\n      <td>...</td>\n      <td>...</td>\n    </tr>\n    <tr>\n      <th>145643</th>\n      <td>3549499846</td>\n      <td>18</td>\n      <td>2024-03-13 23:46:41.800</td>\n      <td>2024-03-14 00:05:44.097</td>\n      <td>2024-03-14 04:44:52.303</td>\n      <td>1.00</td>\n      <td>57.115326</td>\n      <td>65.560928</td>\n      <td>1084</td>\n      <td>0</td>\n      <td>0</td>\n      <td>2024-03-14 05:00:00</td>\n      <td>0</td>\n      <td>0 days 00:15:07.697000</td>\n      <td>[3740217, 12470301, 14905267]</td>\n      <td>[4189593, 4957320, 14773399]</td>\n      <td>[4588470, 3775072, 6578362, 7124828, 9735935, ...</td>\n    </tr>\n    <tr>\n      <th>145644</th>\n      <td>3549499955</td>\n      <td>10</td>\n      <td>2024-03-13 23:51:20.557</td>\n      <td>2024-03-14 00:02:07.323</td>\n      <td>2024-03-14 04:49:52.080</td>\n      <td>1.00</td>\n      <td>57.146118</td>\n      <td>65.522736</td>\n      <td>1448</td>\n      <td>0</td>\n      <td>0</td>\n      <td>2024-03-14 05:00:00</td>\n      <td>0</td>\n      <td>0 days 00:10:07.920000</td>\n      <td>[308685, 311396, 3245830, 4513194]</td>\n      <td>[308481, 6417510, 14825782]</td>\n      <td>[310388, 7650604, 8602004, 8925961, 5711156, 1...</td>\n    </tr>\n    <tr>\n      <th>145645</th>\n      <td>3549499961</td>\n      <td>4</td>\n      <td>2024-03-13 23:58:55.290</td>\n      <td>2024-03-13 23:59:51.967</td>\n      <td>2024-03-14 04:50:22.870</td>\n      <td>1.25</td>\n      <td>57.147602</td>\n      <td>65.642136</td>\n      <td>1448</td>\n      <td>0</td>\n      <td>0</td>\n      <td>2024-03-14 05:00:00</td>\n      <td>0</td>\n      <td>0 days 00:09:37.130000</td>\n      <td>[]</td>\n      <td>[5412814]</td>\n      <td>[4198055, 5959409]</td>\n    </tr>\n    <tr>\n      <th>145646</th>\n      <td>3549500025</td>\n      <td>5</td>\n      <td>2024-03-13 23:56:31.047</td>\n      <td>2024-03-14 00:00:43.637</td>\n      <td>2024-03-14 04:53:47.267</td>\n      <td>1.25</td>\n      <td>57.095970</td>\n      <td>65.566177</td>\n      <td>1448</td>\n      <td>0</td>\n      <td>0</td>\n      <td>2024-03-14 05:00:00</td>\n      <td>0</td>\n      <td>0 days 00:06:12.733000</td>\n      <td>[14511477]</td>\n      <td>[]</td>\n      <td>[4517649, 9966948, 14905267]</td>\n    </tr>\n    <tr>\n      <th>145647</th>\n      <td>3549500125</td>\n      <td>12</td>\n      <td>2024-03-14 00:01:33.953</td>\n      <td>2024-03-14 00:07:11.300</td>\n      <td>2024-03-14 04:59:51.620</td>\n      <td>1.35</td>\n      <td>57.104553</td>\n      <td>65.549805</td>\n      <td>1448</td>\n      <td>0</td>\n      <td>0</td>\n      <td>2024-03-14 05:00:00</td>\n      <td>0</td>\n      <td>0 days 00:00:08.380000</td>\n      <td>[]</td>\n      <td>[14203317]</td>\n      <td>[9966948, 9735935, 14499797, 14905267, 14773399]</td>\n    </tr>\n  </tbody>\n</table>\n<p>145648 rows × 17 columns</p>\n</div>"
     },
     "metadata": {},
     "output_type": "display_data"
    }
   ],
   "source": [
    "#создаем список с водителями\n",
    "drivers_in_radius = []\n",
    "\n",
    "count_orders = orders_data.shape[0]\n",
    "\n",
    "#перебираем все заказы\n",
    "for i in range(count_orders):\n",
    "        \n",
    "    #находим разницу во времени даты создания заказа со всеми датами водителей\n",
    "    delta_time = (tumen_drivers['date'] - orders_data['OrderCreationDate'].iloc[i]).dt.total_seconds()\n",
    "    \n",
    "    #маска берем водителей с разницей времени от заказа 15 секунд\n",
    "    mask_delta_time_15s = (delta_time.between(0, 15))\n",
    "    \n",
    "    #берем актуальные записи о водителях и убираем дубликаты, в рамки 15 секунд до и после даты создания заказа может попасть несколько записей с координатами водителя\n",
    "    drivers_within_30s = tumen_drivers[mask_delta_time_15s].drop_duplicates(subset=['driverid'])\n",
    "    \n",
    "    #вычисляем расстояния для всех подходящих водителей \n",
    "    drivers_within_30s['DistanceToOrder'] = [calculate_distance(driver, orders_data.iloc[i]) for driver in\n",
    "                                             drivers_within_30s.values]\n",
    "\n",
    "    # маски для фильтрации водителей \n",
    "    mask_order_less500m = drivers_within_30s['DistanceToOrder'] < 500\n",
    "    mask_order_less1000m = (drivers_within_30s['DistanceToOrder'] >= 500) & (drivers_within_30s['DistanceToOrder'] < 1000)\n",
    "    mask_order_less2000m = (drivers_within_30s['DistanceToOrder'] >= 1000) & (drivers_within_30s['DistanceToOrder'] < 2000)\n",
    "\n",
    "    #отбираем водителей по расстояниям\n",
    "    new_drivers_in_radius = {'Drivers500m': drivers_within_30s[mask_order_less500m]['driverid'].values,\n",
    "                          'Drivers1000m': drivers_within_30s[mask_order_less1000m]['driverid'].values,\n",
    "                          'Drivers2000m': drivers_within_30s[mask_order_less2000m]['driverid'].values}\n",
    "    \n",
    "    #запоминаем водителей\n",
    "    drivers_in_radius.append(new_drivers_in_radius)\n",
    "\n",
    "#формируем датафрейм из списка словарей\n",
    "drivers_in_radius_df = pd.DataFrame(drivers_in_radius)\n",
    "\n",
    "#объединяем, заказы с водителями в заданных радиусах\n",
    "orders_data = pd.concat([orders_data, drivers_in_radius_df], axis=1, join='inner')\n",
    "\n",
    "#выводим результат\n",
    "display(orders_data)"
   ],
   "metadata": {
    "collapsed": false
   },
   "id": "91af612d8676bac3",
   "execution_count": 88
  },
  {
   "cell_type": "code",
   "outputs": [],
   "source": [
    "#создаем функцию, которая отбирает водителей, для которых тип тарифа заказа совпадает с доступными ему типами тарифов\n",
    "def get_suitable_drivers(drivers_ids, tariff_type_id):\n",
    "    return [driver_id for driver_id in drivers_ids if\n",
    "            tariff_type_id in drivers_with_available_tariffs.get(driver_id, [])]"
   ],
   "metadata": {
    "collapsed": false,
    "ExecuteTime": {
     "end_time": "2024-04-12T19:32:59.851772Z",
     "start_time": "2024-04-12T19:32:59.848510Z"
    }
   },
   "id": "bcd50b9807a2cb18",
   "execution_count": 93
  },
  {
   "cell_type": "code",
   "outputs": [
    {
     "data": {
      "text/plain": "           OrderId  EstimatedTimeArrival           SetDriverDate  \\\n0       3544585460                     5 2024-02-15 00:18:53.997   \n1       3544585488                     4 2024-02-15 00:01:58.203   \n2       3544585545                     4 2024-02-15 00:10:47.800   \n3       3544585571                     3 2024-02-15 00:06:58.673   \n4       3544585572                     5 2024-02-15 00:05:40.380   \n...            ...                   ...                     ...   \n145643  3549499846                    18 2024-03-13 23:46:41.800   \n145644  3549499955                    10 2024-03-13 23:51:20.557   \n145645  3549499961                     4 2024-03-13 23:58:55.290   \n145646  3549500025                     5 2024-03-13 23:56:31.047   \n145647  3549500125                    12 2024-03-14 00:01:33.953   \n\n             ArrivalDriverDate       OrderCreationDate  LoadArea  \\\n0      2024-02-15 00:20:10.647 2024-02-15 05:00:25.540      1.25   \n1      2024-02-15 00:03:33.630 2024-02-15 05:00:58.053      1.35   \n2      2024-02-15 00:13:19.677 2024-02-15 05:02:45.250      1.20   \n3      2024-02-15 00:07:50.340 2024-02-15 05:03:29.623      1.25   \n4      2024-02-15 00:10:34.873 2024-02-15 05:03:29.733      1.35   \n...                        ...                     ...       ...   \n145643 2024-03-14 00:05:44.097 2024-03-14 04:44:52.303      1.00   \n145644 2024-03-14 00:02:07.323 2024-03-14 04:49:52.080      1.00   \n145645 2024-03-13 23:59:51.967 2024-03-14 04:50:22.870      1.25   \n145646 2024-03-14 00:00:43.637 2024-03-14 04:53:47.267      1.25   \n145647 2024-03-14 00:07:11.300 2024-03-14 04:59:51.620      1.35   \n\n        FeedPointLatitude  FeedPointLongitude  TariffTTypeId  IsWeekend  \\\n0               57.181877           65.656975           1448          0   \n1               57.127262           65.581718           1448          0   \n2               57.146118           65.522736           1448          0   \n3               57.146656           65.521637           1448          0   \n4               57.145397           65.585876           1448          0   \n...                   ...                 ...            ...        ...   \n145643          57.115326           65.560928           1084          0   \n145644          57.146118           65.522736           1448          0   \n145645          57.147602           65.642136           1448          0   \n145646          57.095970           65.566177           1448          0   \n145647          57.104553           65.549805           1448          0   \n\n        IsRushHour                Date  HasPrecipitation  \\\n0                0 2024-02-15 08:00:00                 0   \n1                0 2024-02-15 08:00:00                 0   \n2                0 2024-02-15 08:00:00                 0   \n3                0 2024-02-15 08:00:00                 0   \n4                0 2024-02-15 08:00:00                 0   \n...            ...                 ...               ...   \n145643           0 2024-03-14 05:00:00                 0   \n145644           0 2024-03-14 05:00:00                 0   \n145645           0 2024-03-14 05:00:00                 0   \n145646           0 2024-03-14 05:00:00                 0   \n145647           0 2024-03-14 05:00:00                 0   \n\n                    DeltaTime                            Drivers500m  \\\n0      0 days 02:59:34.460000                                     []   \n1      0 days 02:59:01.947000                              [5042474]   \n2      0 days 02:57:14.750000    [3025239, 315390, 316531, 14488831]   \n3      0 days 02:56:30.377000  [3025239, 3245830, 3640873, 10021315]   \n4      0 days 02:56:30.267000                                     []   \n...                       ...                                    ...   \n145643 0 days 00:15:07.697000          [3740217, 12470301, 14905267]   \n145644 0 days 00:10:07.920000     [308685, 311396, 3245830, 4513194]   \n145645 0 days 00:09:37.130000                                     []   \n145646 0 days 00:06:12.733000                             [14511477]   \n145647 0 days 00:00:08.380000                                     []   \n\n                                         Drivers1000m  \\\n0                                                  []   \n1       [4859949, 3747867, 3472695, 3142459, 5344482]   \n2                                  [4581243, 3171468]   \n3                                  [4581243, 7052306]   \n4                                          [14480359]   \n...                                               ...   \n145643                             [4189593, 4957320]   \n145644                    [308481, 6417510, 14825782]   \n145645                                      [5412814]   \n145646                                             []   \n145647                                     [14203317]   \n\n                                             Drivers2000m  \n0                                     [4172379, 14163012]  \n1                 [4469523, 14928437, 14287289, 14756159]  \n2                  [3268447, 5711156, 14744763, 14925013]  \n3           [4694279, 316275, 3268447, 5711156, 12871837]  \n4         [3142459, 5042474, 5344482, 14397518, 14194632]  \n...                                                   ...  \n145643  [4588470, 3775072, 6578362, 9735935, 9966948, ...  \n145644  [310388, 8602004, 8925961, 5711156, 14252671, ...  \n145645                                 [4198055, 5959409]  \n145646                                [4517649, 14905267]  \n145647            [9735935, 14499797, 14905267, 14773399]  \n\n[145648 rows x 17 columns]",
      "text/html": "<div>\n<style scoped>\n    .dataframe tbody tr th:only-of-type {\n        vertical-align: middle;\n    }\n\n    .dataframe tbody tr th {\n        vertical-align: top;\n    }\n\n    .dataframe thead th {\n        text-align: right;\n    }\n</style>\n<table border=\"1\" class=\"dataframe\">\n  <thead>\n    <tr style=\"text-align: right;\">\n      <th></th>\n      <th>OrderId</th>\n      <th>EstimatedTimeArrival</th>\n      <th>SetDriverDate</th>\n      <th>ArrivalDriverDate</th>\n      <th>OrderCreationDate</th>\n      <th>LoadArea</th>\n      <th>FeedPointLatitude</th>\n      <th>FeedPointLongitude</th>\n      <th>TariffTTypeId</th>\n      <th>IsWeekend</th>\n      <th>IsRushHour</th>\n      <th>Date</th>\n      <th>HasPrecipitation</th>\n      <th>DeltaTime</th>\n      <th>Drivers500m</th>\n      <th>Drivers1000m</th>\n      <th>Drivers2000m</th>\n    </tr>\n  </thead>\n  <tbody>\n    <tr>\n      <th>0</th>\n      <td>3544585460</td>\n      <td>5</td>\n      <td>2024-02-15 00:18:53.997</td>\n      <td>2024-02-15 00:20:10.647</td>\n      <td>2024-02-15 05:00:25.540</td>\n      <td>1.25</td>\n      <td>57.181877</td>\n      <td>65.656975</td>\n      <td>1448</td>\n      <td>0</td>\n      <td>0</td>\n      <td>2024-02-15 08:00:00</td>\n      <td>0</td>\n      <td>0 days 02:59:34.460000</td>\n      <td>[]</td>\n      <td>[]</td>\n      <td>[4172379, 14163012]</td>\n    </tr>\n    <tr>\n      <th>1</th>\n      <td>3544585488</td>\n      <td>4</td>\n      <td>2024-02-15 00:01:58.203</td>\n      <td>2024-02-15 00:03:33.630</td>\n      <td>2024-02-15 05:00:58.053</td>\n      <td>1.35</td>\n      <td>57.127262</td>\n      <td>65.581718</td>\n      <td>1448</td>\n      <td>0</td>\n      <td>0</td>\n      <td>2024-02-15 08:00:00</td>\n      <td>0</td>\n      <td>0 days 02:59:01.947000</td>\n      <td>[5042474]</td>\n      <td>[4859949, 3747867, 3472695, 3142459, 5344482]</td>\n      <td>[4469523, 14928437, 14287289, 14756159]</td>\n    </tr>\n    <tr>\n      <th>2</th>\n      <td>3544585545</td>\n      <td>4</td>\n      <td>2024-02-15 00:10:47.800</td>\n      <td>2024-02-15 00:13:19.677</td>\n      <td>2024-02-15 05:02:45.250</td>\n      <td>1.20</td>\n      <td>57.146118</td>\n      <td>65.522736</td>\n      <td>1448</td>\n      <td>0</td>\n      <td>0</td>\n      <td>2024-02-15 08:00:00</td>\n      <td>0</td>\n      <td>0 days 02:57:14.750000</td>\n      <td>[3025239, 315390, 316531, 14488831]</td>\n      <td>[4581243, 3171468]</td>\n      <td>[3268447, 5711156, 14744763, 14925013]</td>\n    </tr>\n    <tr>\n      <th>3</th>\n      <td>3544585571</td>\n      <td>3</td>\n      <td>2024-02-15 00:06:58.673</td>\n      <td>2024-02-15 00:07:50.340</td>\n      <td>2024-02-15 05:03:29.623</td>\n      <td>1.25</td>\n      <td>57.146656</td>\n      <td>65.521637</td>\n      <td>1448</td>\n      <td>0</td>\n      <td>0</td>\n      <td>2024-02-15 08:00:00</td>\n      <td>0</td>\n      <td>0 days 02:56:30.377000</td>\n      <td>[3025239, 3245830, 3640873, 10021315]</td>\n      <td>[4581243, 7052306]</td>\n      <td>[4694279, 316275, 3268447, 5711156, 12871837]</td>\n    </tr>\n    <tr>\n      <th>4</th>\n      <td>3544585572</td>\n      <td>5</td>\n      <td>2024-02-15 00:05:40.380</td>\n      <td>2024-02-15 00:10:34.873</td>\n      <td>2024-02-15 05:03:29.733</td>\n      <td>1.35</td>\n      <td>57.145397</td>\n      <td>65.585876</td>\n      <td>1448</td>\n      <td>0</td>\n      <td>0</td>\n      <td>2024-02-15 08:00:00</td>\n      <td>0</td>\n      <td>0 days 02:56:30.267000</td>\n      <td>[]</td>\n      <td>[14480359]</td>\n      <td>[3142459, 5042474, 5344482, 14397518, 14194632]</td>\n    </tr>\n    <tr>\n      <th>...</th>\n      <td>...</td>\n      <td>...</td>\n      <td>...</td>\n      <td>...</td>\n      <td>...</td>\n      <td>...</td>\n      <td>...</td>\n      <td>...</td>\n      <td>...</td>\n      <td>...</td>\n      <td>...</td>\n      <td>...</td>\n      <td>...</td>\n      <td>...</td>\n      <td>...</td>\n      <td>...</td>\n      <td>...</td>\n    </tr>\n    <tr>\n      <th>145643</th>\n      <td>3549499846</td>\n      <td>18</td>\n      <td>2024-03-13 23:46:41.800</td>\n      <td>2024-03-14 00:05:44.097</td>\n      <td>2024-03-14 04:44:52.303</td>\n      <td>1.00</td>\n      <td>57.115326</td>\n      <td>65.560928</td>\n      <td>1084</td>\n      <td>0</td>\n      <td>0</td>\n      <td>2024-03-14 05:00:00</td>\n      <td>0</td>\n      <td>0 days 00:15:07.697000</td>\n      <td>[3740217, 12470301, 14905267]</td>\n      <td>[4189593, 4957320]</td>\n      <td>[4588470, 3775072, 6578362, 9735935, 9966948, ...</td>\n    </tr>\n    <tr>\n      <th>145644</th>\n      <td>3549499955</td>\n      <td>10</td>\n      <td>2024-03-13 23:51:20.557</td>\n      <td>2024-03-14 00:02:07.323</td>\n      <td>2024-03-14 04:49:52.080</td>\n      <td>1.00</td>\n      <td>57.146118</td>\n      <td>65.522736</td>\n      <td>1448</td>\n      <td>0</td>\n      <td>0</td>\n      <td>2024-03-14 05:00:00</td>\n      <td>0</td>\n      <td>0 days 00:10:07.920000</td>\n      <td>[308685, 311396, 3245830, 4513194]</td>\n      <td>[308481, 6417510, 14825782]</td>\n      <td>[310388, 8602004, 8925961, 5711156, 14252671, ...</td>\n    </tr>\n    <tr>\n      <th>145645</th>\n      <td>3549499961</td>\n      <td>4</td>\n      <td>2024-03-13 23:58:55.290</td>\n      <td>2024-03-13 23:59:51.967</td>\n      <td>2024-03-14 04:50:22.870</td>\n      <td>1.25</td>\n      <td>57.147602</td>\n      <td>65.642136</td>\n      <td>1448</td>\n      <td>0</td>\n      <td>0</td>\n      <td>2024-03-14 05:00:00</td>\n      <td>0</td>\n      <td>0 days 00:09:37.130000</td>\n      <td>[]</td>\n      <td>[5412814]</td>\n      <td>[4198055, 5959409]</td>\n    </tr>\n    <tr>\n      <th>145646</th>\n      <td>3549500025</td>\n      <td>5</td>\n      <td>2024-03-13 23:56:31.047</td>\n      <td>2024-03-14 00:00:43.637</td>\n      <td>2024-03-14 04:53:47.267</td>\n      <td>1.25</td>\n      <td>57.095970</td>\n      <td>65.566177</td>\n      <td>1448</td>\n      <td>0</td>\n      <td>0</td>\n      <td>2024-03-14 05:00:00</td>\n      <td>0</td>\n      <td>0 days 00:06:12.733000</td>\n      <td>[14511477]</td>\n      <td>[]</td>\n      <td>[4517649, 14905267]</td>\n    </tr>\n    <tr>\n      <th>145647</th>\n      <td>3549500125</td>\n      <td>12</td>\n      <td>2024-03-14 00:01:33.953</td>\n      <td>2024-03-14 00:07:11.300</td>\n      <td>2024-03-14 04:59:51.620</td>\n      <td>1.35</td>\n      <td>57.104553</td>\n      <td>65.549805</td>\n      <td>1448</td>\n      <td>0</td>\n      <td>0</td>\n      <td>2024-03-14 05:00:00</td>\n      <td>0</td>\n      <td>0 days 00:00:08.380000</td>\n      <td>[]</td>\n      <td>[14203317]</td>\n      <td>[9735935, 14499797, 14905267, 14773399]</td>\n    </tr>\n  </tbody>\n</table>\n<p>145648 rows × 17 columns</p>\n</div>"
     },
     "metadata": {},
     "output_type": "display_data"
    }
   ],
   "source": [
    "#получаем словарь, где ключ идентификатор водителя, а значение список доступных ему тарифов \n",
    "drivers_with_available_tariffs = available_drivers_tariffs_df.groupby('DriverId')['TariffTypeId'].apply(list).to_dict()\n",
    "\n",
    "#отбираем водителей, подходящих по типу тарифа\n",
    "orders_data['Drivers500m'] = [get_suitable_drivers(order[14], order[8]) for order in orders_data.values]\n",
    "orders_data['Drivers1000m'] = [get_suitable_drivers(order[15], order[8]) for order in orders_data.values]\n",
    "orders_data['Drivers2000m'] = [get_suitable_drivers(order[16], order[8]) for order in orders_data.values]\n",
    "\n",
    "#выводим результат\n",
    "display(orders_data)  "
   ],
   "metadata": {
    "collapsed": false,
    "ExecuteTime": {
     "end_time": "2024-04-12T19:33:09.601981Z",
     "start_time": "2024-04-12T19:33:01.287459Z"
    }
   },
   "id": "4dc2683b671f97f2",
   "execution_count": 94
  },
  {
   "cell_type": "code",
   "outputs": [
    {
     "data": {
      "text/plain": "         DriverId  Rang  CountCompleteAutoPlain  CountFailureAutoPlain  \\\n26239     3684255  0.55                       5                     21   \n41010     3831677  0.00                       4                      0   \n44199     3851294  0.00                       0                      3   \n57222     3852812  0.91                       9                      3   \n80599     3749857  0.86                       9                      3   \n...           ...   ...                     ...                    ...   \n9194826  10450403  0.98                       8                      0   \n9194864   8209578  0.92                       0                      2   \n9194892  14900787  0.97                       0                      0   \n9194967   5277601  0.81                      57                     42   \n9195047  12836454  0.88                       1                      1   \n\n         CountCompleteOrders          UpdateRangDate  \n26239                     27 2015-10-28 05:14:44.193  \n41010                     32 2015-10-28 12:22:20.363  \n44199                      8 2015-10-28 13:13:18.377  \n57222                     81 2015-11-18 21:43:17.737  \n80599                     40 2015-12-30 21:53:21.070  \n...                      ...                     ...  \n9194826                   27 2024-03-18 15:21:07.387  \n9194864                   60 2024-03-18 15:21:08.013  \n9194892                   37 2024-03-18 15:21:08.397  \n9194967                   57 2024-03-18 15:26:09.123  \n9195047                   27 2024-03-18 15:26:10.490  \n\n[84977 rows x 6 columns]",
      "text/html": "<div>\n<style scoped>\n    .dataframe tbody tr th:only-of-type {\n        vertical-align: middle;\n    }\n\n    .dataframe tbody tr th {\n        vertical-align: top;\n    }\n\n    .dataframe thead th {\n        text-align: right;\n    }\n</style>\n<table border=\"1\" class=\"dataframe\">\n  <thead>\n    <tr style=\"text-align: right;\">\n      <th></th>\n      <th>DriverId</th>\n      <th>Rang</th>\n      <th>CountCompleteAutoPlain</th>\n      <th>CountFailureAutoPlain</th>\n      <th>CountCompleteOrders</th>\n      <th>UpdateRangDate</th>\n    </tr>\n  </thead>\n  <tbody>\n    <tr>\n      <th>26239</th>\n      <td>3684255</td>\n      <td>0.55</td>\n      <td>5</td>\n      <td>21</td>\n      <td>27</td>\n      <td>2015-10-28 05:14:44.193</td>\n    </tr>\n    <tr>\n      <th>41010</th>\n      <td>3831677</td>\n      <td>0.00</td>\n      <td>4</td>\n      <td>0</td>\n      <td>32</td>\n      <td>2015-10-28 12:22:20.363</td>\n    </tr>\n    <tr>\n      <th>44199</th>\n      <td>3851294</td>\n      <td>0.00</td>\n      <td>0</td>\n      <td>3</td>\n      <td>8</td>\n      <td>2015-10-28 13:13:18.377</td>\n    </tr>\n    <tr>\n      <th>57222</th>\n      <td>3852812</td>\n      <td>0.91</td>\n      <td>9</td>\n      <td>3</td>\n      <td>81</td>\n      <td>2015-11-18 21:43:17.737</td>\n    </tr>\n    <tr>\n      <th>80599</th>\n      <td>3749857</td>\n      <td>0.86</td>\n      <td>9</td>\n      <td>3</td>\n      <td>40</td>\n      <td>2015-12-30 21:53:21.070</td>\n    </tr>\n    <tr>\n      <th>...</th>\n      <td>...</td>\n      <td>...</td>\n      <td>...</td>\n      <td>...</td>\n      <td>...</td>\n      <td>...</td>\n    </tr>\n    <tr>\n      <th>9194826</th>\n      <td>10450403</td>\n      <td>0.98</td>\n      <td>8</td>\n      <td>0</td>\n      <td>27</td>\n      <td>2024-03-18 15:21:07.387</td>\n    </tr>\n    <tr>\n      <th>9194864</th>\n      <td>8209578</td>\n      <td>0.92</td>\n      <td>0</td>\n      <td>2</td>\n      <td>60</td>\n      <td>2024-03-18 15:21:08.013</td>\n    </tr>\n    <tr>\n      <th>9194892</th>\n      <td>14900787</td>\n      <td>0.97</td>\n      <td>0</td>\n      <td>0</td>\n      <td>37</td>\n      <td>2024-03-18 15:21:08.397</td>\n    </tr>\n    <tr>\n      <th>9194967</th>\n      <td>5277601</td>\n      <td>0.81</td>\n      <td>57</td>\n      <td>42</td>\n      <td>57</td>\n      <td>2024-03-18 15:26:09.123</td>\n    </tr>\n    <tr>\n      <th>9195047</th>\n      <td>12836454</td>\n      <td>0.88</td>\n      <td>1</td>\n      <td>1</td>\n      <td>27</td>\n      <td>2024-03-18 15:26:10.490</td>\n    </tr>\n  </tbody>\n</table>\n<p>84977 rows × 6 columns</p>\n</div>"
     },
     "metadata": {},
     "output_type": "display_data"
    }
   ],
   "source": [
    "#задаем путь до файла\n",
    "drivers_info_path = r'C:\\Users\\PC\\Desktop\\diploma\\Data\\DriversInfoV2.csv'\n",
    "\n",
    "#загружаем данные в датафрейм\n",
    "drivers_info = pd.read_csv(drivers_info_path,\n",
    "                           dtype={'DriverId': 'uint32', 'Rang': 'float32', 'CountCompleteAutoPlain': pd.Int32Dtype(),\n",
    "                                  'CountCompleteOrders': pd.Int32Dtype(), 'CountFailureAutoPlain': pd.Int32Dtype()},\n",
    "                           parse_dates=['UpdateRangDate'], date_format=\"%Y-%m-%d %H:%M:%S.%f\")\n",
    "\n",
    "#заменяем null на 0, так ак для этого набора это идентичные значения\n",
    "drivers_info = drivers_info.fillna(0)\n",
    "\n",
    "drivers_info = drivers_info[drivers_info['DriverId'].isin(tumen_unique_drivers)]\n",
    "\n",
    "#выводим результат\n",
    "display(drivers_info)"
   ],
   "metadata": {
    "collapsed": false,
    "ExecuteTime": {
     "end_time": "2024-04-13T07:00:36.444438Z",
     "start_time": "2024-04-13T06:59:56.369849Z"
    }
   },
   "id": "c4ff85dd83bd97f4",
   "execution_count": 98
  },
  {
   "cell_type": "code",
   "outputs": [],
   "source": [
    "#создаем функцию для вычисления вероятности отказа от заказа случайно выбранного водителя\n",
    "def calculate_probability_refusal_order(drivers, create_order_date):\n",
    "    #если водителей нет, то считаем, что вероятность отказа равна 1\n",
    "    if len(drivers) == 0:\n",
    "        return 1\n",
    "\n",
    "    #оставляем статистическую информацию о нужных водителях\n",
    "    drivers_info_fix_date = drivers_info[drivers_info['DriverId'].isin(drivers)].copy()\n",
    "\n",
    "    #находим разницу во времени, чтобы выбрать самые актуальные данные на момент создания заказа\n",
    "    drivers_info_fix_date['DeltaUpdateDate'] = (create_order_date - drivers_info_fix_date['UpdateRangDate']).abs()\n",
    "\n",
    "    #оставляем актуальные данные\n",
    "    drivers_info_fix_date = drivers_info_fix_date.sort_values(by='DeltaUpdateDate').groupby(\n",
    "        'DriverId').first().reset_index()\n",
    "\n",
    "    #учитываем водителей, которые выполнили больше одного заказа\n",
    "    drivers_info_fix_date = drivers_info_fix_date[\n",
    "        (drivers_info_fix_date['CountCompleteAutoPlain'] > 0) | (drivers_info_fix_date['CountFailureAutoPlain'] > 0)]\n",
    "\n",
    "    #вычисляем количество водителей\n",
    "    count_drivers = drivers_info_fix_date.shape[0]\n",
    "\n",
    "    #если водителей после фильтрации не осталось, считаем что вероятность отказа 1\n",
    "    if count_drivers == 0:\n",
    "        return 1\n",
    "\n",
    "    #вычисляем вероятность отказа от заказа для каждого водителя\n",
    "    probability = drivers_info_fix_date['CountFailureAutoPlain'] / (\n",
    "                drivers_info_fix_date['CountFailureAutoPlain'] + drivers_info_fix_date['CountCompleteAutoPlain'])\n",
    "\n",
    "    #вычисляем вероятность отказа случайно выбранного водителя\n",
    "    return probability.sum() / count_drivers"
   ],
   "metadata": {
    "collapsed": false,
    "ExecuteTime": {
     "end_time": "2024-04-13T07:00:58.962391Z",
     "start_time": "2024-04-13T07:00:58.953967Z"
    }
   },
   "id": "b70063433c32f18e",
   "execution_count": 99
  },
  {
   "cell_type": "code",
   "outputs": [
    {
     "data": {
      "text/plain": "        CountDrivers500m  CountDrivers1000m  CountDrivers2000m  \\\n0                      0                  0                  2   \n1                      1                  5                  4   \n2                      4                  2                  4   \n3                      4                  2                  5   \n4                      0                  1                  5   \n...                  ...                ...                ...   \n145643                 3                  2                  7   \n145644                 4                  3                  8   \n145645                 0                  1                  2   \n145646                 1                  0                  2   \n145647                 0                  1                  4   \n\n        ProbabilityRefusalOrder500m  ProbabilityRefusalOrder1000m  \\\n0                          1.000000                      1.000000   \n1                          1.000000                      0.476190   \n2                          0.584512                      0.871212   \n3                          0.651146                      0.371212   \n4                          1.000000                      1.000000   \n...                             ...                           ...   \n145643                     0.184615                      0.000000   \n145644                     0.430162                      1.000000   \n145645                     1.000000                      1.000000   \n145646                     0.000000                      1.000000   \n145647                     1.000000                      1.000000   \n\n        ProbabilityRefusalOrder2000m  \n0                           0.468671  \n1                           0.437500  \n2                           0.584674  \n3                           0.540683  \n4                           0.428571  \n...                              ...  \n145643                      0.488072  \n145644                      0.696275  \n145645                      0.428571  \n145646                      1.000000  \n145647                      0.695833  \n\n[145648 rows x 6 columns]",
      "text/html": "<div>\n<style scoped>\n    .dataframe tbody tr th:only-of-type {\n        vertical-align: middle;\n    }\n\n    .dataframe tbody tr th {\n        vertical-align: top;\n    }\n\n    .dataframe thead th {\n        text-align: right;\n    }\n</style>\n<table border=\"1\" class=\"dataframe\">\n  <thead>\n    <tr style=\"text-align: right;\">\n      <th></th>\n      <th>CountDrivers500m</th>\n      <th>CountDrivers1000m</th>\n      <th>CountDrivers2000m</th>\n      <th>ProbabilityRefusalOrder500m</th>\n      <th>ProbabilityRefusalOrder1000m</th>\n      <th>ProbabilityRefusalOrder2000m</th>\n    </tr>\n  </thead>\n  <tbody>\n    <tr>\n      <th>0</th>\n      <td>0</td>\n      <td>0</td>\n      <td>2</td>\n      <td>1.000000</td>\n      <td>1.000000</td>\n      <td>0.468671</td>\n    </tr>\n    <tr>\n      <th>1</th>\n      <td>1</td>\n      <td>5</td>\n      <td>4</td>\n      <td>1.000000</td>\n      <td>0.476190</td>\n      <td>0.437500</td>\n    </tr>\n    <tr>\n      <th>2</th>\n      <td>4</td>\n      <td>2</td>\n      <td>4</td>\n      <td>0.584512</td>\n      <td>0.871212</td>\n      <td>0.584674</td>\n    </tr>\n    <tr>\n      <th>3</th>\n      <td>4</td>\n      <td>2</td>\n      <td>5</td>\n      <td>0.651146</td>\n      <td>0.371212</td>\n      <td>0.540683</td>\n    </tr>\n    <tr>\n      <th>4</th>\n      <td>0</td>\n      <td>1</td>\n      <td>5</td>\n      <td>1.000000</td>\n      <td>1.000000</td>\n      <td>0.428571</td>\n    </tr>\n    <tr>\n      <th>...</th>\n      <td>...</td>\n      <td>...</td>\n      <td>...</td>\n      <td>...</td>\n      <td>...</td>\n      <td>...</td>\n    </tr>\n    <tr>\n      <th>145643</th>\n      <td>3</td>\n      <td>2</td>\n      <td>7</td>\n      <td>0.184615</td>\n      <td>0.000000</td>\n      <td>0.488072</td>\n    </tr>\n    <tr>\n      <th>145644</th>\n      <td>4</td>\n      <td>3</td>\n      <td>8</td>\n      <td>0.430162</td>\n      <td>1.000000</td>\n      <td>0.696275</td>\n    </tr>\n    <tr>\n      <th>145645</th>\n      <td>0</td>\n      <td>1</td>\n      <td>2</td>\n      <td>1.000000</td>\n      <td>1.000000</td>\n      <td>0.428571</td>\n    </tr>\n    <tr>\n      <th>145646</th>\n      <td>1</td>\n      <td>0</td>\n      <td>2</td>\n      <td>0.000000</td>\n      <td>1.000000</td>\n      <td>1.000000</td>\n    </tr>\n    <tr>\n      <th>145647</th>\n      <td>0</td>\n      <td>1</td>\n      <td>4</td>\n      <td>1.000000</td>\n      <td>1.000000</td>\n      <td>0.695833</td>\n    </tr>\n  </tbody>\n</table>\n<p>145648 rows × 6 columns</p>\n</div>"
     },
     "metadata": {},
     "output_type": "display_data"
    }
   ],
   "source": [
    "# список для признаков на основе данных о водителей\n",
    "drivers_signs = []\n",
    "\n",
    "#перебираем заказы\n",
    "for i in range(count_orders):\n",
    "\n",
    "    #берем водителей в заданных расстояниях\n",
    "    drivers_radius_500m = orders_data['Drivers500m'].iloc[i]\n",
    "    drivers_radius_1000m = orders_data['Drivers1000m'].iloc[i]\n",
    "    drivers_radius_2000m = orders_data['Drivers2000m'].iloc[i]\n",
    "    \n",
    "    #берем дату создания заказа\n",
    "    order_create_date = orders_data['OrderCreationDate'].iloc[i]\n",
    "\n",
    "    #формируем признаки - количество водителей в заданных расстояниях и вероятности отказа случайно выбранного водителя\n",
    "    new_drivers_sign = {'CountDrivers500m': len(drivers_radius_500m), 'CountDrivers1000m': len(drivers_radius_1000m),\n",
    "                        'CountDrivers2000m': len(drivers_radius_2000m),\n",
    "                        'ProbabilityRefusalOrder500m': calculate_probability_refusal_order(drivers_radius_500m,\n",
    "                                                                                           order_create_date),\n",
    "                        'ProbabilityRefusalOrder1000m': calculate_probability_refusal_order(drivers_radius_1000m,\n",
    "                                                                                            order_create_date),\n",
    "                        'ProbabilityRefusalOrder2000m': calculate_probability_refusal_order(drivers_radius_2000m,\n",
    "                                                                                            order_create_date)}\n",
    "    #запоминаем признаки\n",
    "    drivers_signs.append(new_drivers_sign)\n",
    "    \n",
    "#преобразуем список с признаками к датафрейму\n",
    "drivers_signs_df = pd.DataFrame(drivers_signs)\n",
    "\n",
    "#объединяем признаки на основе данных о водителях с признаками заказа\n",
    "orders_data = pd.concat([orders_data, drivers_signs_df], axis=1, join='inner')\n",
    "\n",
    "#выводим результат\n",
    "display(drivers_signs_df)"
   ],
   "metadata": {
    "collapsed": false
   },
   "id": "210fb22a43c4b36a",
   "execution_count": 101
  },
  {
   "cell_type": "code",
   "outputs": [
    {
     "data": {
      "text/plain": "           OrderId  EstimatedTimeArrival           SetDriverDate  \\\n0       3544585460                     5 2024-02-15 00:18:53.997   \n1       3544585488                     4 2024-02-15 00:01:58.203   \n2       3544585545                     4 2024-02-15 00:10:47.800   \n3       3544585571                     3 2024-02-15 00:06:58.673   \n4       3544585572                     5 2024-02-15 00:05:40.380   \n...            ...                   ...                     ...   \n145643  3549499846                    18 2024-03-13 23:46:41.800   \n145644  3549499955                    10 2024-03-13 23:51:20.557   \n145645  3549499961                     4 2024-03-13 23:58:55.290   \n145646  3549500025                     5 2024-03-13 23:56:31.047   \n145647  3549500125                    12 2024-03-14 00:01:33.953   \n\n             ArrivalDriverDate       OrderCreationDate  LoadArea  \\\n0      2024-02-15 00:20:10.647 2024-02-15 05:00:25.540      1.25   \n1      2024-02-15 00:03:33.630 2024-02-15 05:00:58.053      1.35   \n2      2024-02-15 00:13:19.677 2024-02-15 05:02:45.250      1.20   \n3      2024-02-15 00:07:50.340 2024-02-15 05:03:29.623      1.25   \n4      2024-02-15 00:10:34.873 2024-02-15 05:03:29.733      1.35   \n...                        ...                     ...       ...   \n145643 2024-03-14 00:05:44.097 2024-03-14 04:44:52.303      1.00   \n145644 2024-03-14 00:02:07.323 2024-03-14 04:49:52.080      1.00   \n145645 2024-03-13 23:59:51.967 2024-03-14 04:50:22.870      1.25   \n145646 2024-03-14 00:00:43.637 2024-03-14 04:53:47.267      1.25   \n145647 2024-03-14 00:07:11.300 2024-03-14 04:59:51.620      1.35   \n\n        FeedPointLatitude  FeedPointLongitude  TariffTTypeId  IsWeekend  ...  \\\n0               57.181877           65.656975           1448          0  ...   \n1               57.127262           65.581718           1448          0  ...   \n2               57.146118           65.522736           1448          0  ...   \n3               57.146656           65.521637           1448          0  ...   \n4               57.145397           65.585876           1448          0  ...   \n...                   ...                 ...            ...        ...  ...   \n145643          57.115326           65.560928           1084          0  ...   \n145644          57.146118           65.522736           1448          0  ...   \n145645          57.147602           65.642136           1448          0  ...   \n145646          57.095970           65.566177           1448          0  ...   \n145647          57.104553           65.549805           1448          0  ...   \n\n                                  Drivers500m  \\\n0                                          []   \n1                                   [5042474]   \n2         [3025239, 315390, 316531, 14488831]   \n3       [3025239, 3245830, 3640873, 10021315]   \n4                                          []   \n...                                       ...   \n145643          [3740217, 12470301, 14905267]   \n145644     [308685, 311396, 3245830, 4513194]   \n145645                                     []   \n145646                             [14511477]   \n145647                                     []   \n\n                                         Drivers1000m  \\\n0                                                  []   \n1       [4859949, 3747867, 3472695, 3142459, 5344482]   \n2                                  [4581243, 3171468]   \n3                                  [4581243, 7052306]   \n4                                          [14480359]   \n...                                               ...   \n145643                             [4189593, 4957320]   \n145644                    [308481, 6417510, 14825782]   \n145645                                      [5412814]   \n145646                                             []   \n145647                                     [14203317]   \n\n                                             Drivers2000m CountDrivers500m  \\\n0                                     [4172379, 14163012]                0   \n1                 [4469523, 14928437, 14287289, 14756159]                1   \n2                  [3268447, 5711156, 14744763, 14925013]                4   \n3           [4694279, 316275, 3268447, 5711156, 12871837]                4   \n4         [3142459, 5042474, 5344482, 14397518, 14194632]                0   \n...                                                   ...              ...   \n145643  [4588470, 3775072, 6578362, 9735935, 9966948, ...                3   \n145644  [310388, 8602004, 8925961, 5711156, 14252671, ...                4   \n145645                                 [4198055, 5959409]                0   \n145646                                [4517649, 14905267]                1   \n145647            [9735935, 14499797, 14905267, 14773399]                0   \n\n       CountDrivers1000m CountDrivers2000m ProbabilityRefusalOrder500m  \\\n0                      0                 2                    1.000000   \n1                      5                 4                    1.000000   \n2                      2                 4                    0.584512   \n3                      2                 5                    0.651146   \n4                      1                 5                    1.000000   \n...                  ...               ...                         ...   \n145643                 2                 7                    0.184615   \n145644                 3                 8                    0.430162   \n145645                 1                 2                    1.000000   \n145646                 0                 2                    0.000000   \n145647                 1                 4                    1.000000   \n\n        ProbabilityRefusalOrder1000m  ProbabilityRefusalOrder2000m  \\\n0                           1.000000                      0.468671   \n1                           0.476190                      0.437500   \n2                           0.871212                      0.584674   \n3                           0.371212                      0.540683   \n4                           1.000000                      0.428571   \n...                              ...                           ...   \n145643                      0.000000                      0.488072   \n145644                      1.000000                      0.696275   \n145645                      1.000000                      0.428571   \n145646                      1.000000                      1.000000   \n145647                      1.000000                      0.695833   \n\n        ActualEstimatedTimeArrival  \n0                               76  \n1                               95  \n2                              151  \n3                               51  \n4                              294  \n...                            ...  \n145643                        1142  \n145644                         646  \n145645                          56  \n145646                         252  \n145647                         337  \n\n[145648 rows x 24 columns]",
      "text/html": "<div>\n<style scoped>\n    .dataframe tbody tr th:only-of-type {\n        vertical-align: middle;\n    }\n\n    .dataframe tbody tr th {\n        vertical-align: top;\n    }\n\n    .dataframe thead th {\n        text-align: right;\n    }\n</style>\n<table border=\"1\" class=\"dataframe\">\n  <thead>\n    <tr style=\"text-align: right;\">\n      <th></th>\n      <th>OrderId</th>\n      <th>EstimatedTimeArrival</th>\n      <th>SetDriverDate</th>\n      <th>ArrivalDriverDate</th>\n      <th>OrderCreationDate</th>\n      <th>LoadArea</th>\n      <th>FeedPointLatitude</th>\n      <th>FeedPointLongitude</th>\n      <th>TariffTTypeId</th>\n      <th>IsWeekend</th>\n      <th>...</th>\n      <th>Drivers500m</th>\n      <th>Drivers1000m</th>\n      <th>Drivers2000m</th>\n      <th>CountDrivers500m</th>\n      <th>CountDrivers1000m</th>\n      <th>CountDrivers2000m</th>\n      <th>ProbabilityRefusalOrder500m</th>\n      <th>ProbabilityRefusalOrder1000m</th>\n      <th>ProbabilityRefusalOrder2000m</th>\n      <th>ActualEstimatedTimeArrival</th>\n    </tr>\n  </thead>\n  <tbody>\n    <tr>\n      <th>0</th>\n      <td>3544585460</td>\n      <td>5</td>\n      <td>2024-02-15 00:18:53.997</td>\n      <td>2024-02-15 00:20:10.647</td>\n      <td>2024-02-15 05:00:25.540</td>\n      <td>1.25</td>\n      <td>57.181877</td>\n      <td>65.656975</td>\n      <td>1448</td>\n      <td>0</td>\n      <td>...</td>\n      <td>[]</td>\n      <td>[]</td>\n      <td>[4172379, 14163012]</td>\n      <td>0</td>\n      <td>0</td>\n      <td>2</td>\n      <td>1.000000</td>\n      <td>1.000000</td>\n      <td>0.468671</td>\n      <td>76</td>\n    </tr>\n    <tr>\n      <th>1</th>\n      <td>3544585488</td>\n      <td>4</td>\n      <td>2024-02-15 00:01:58.203</td>\n      <td>2024-02-15 00:03:33.630</td>\n      <td>2024-02-15 05:00:58.053</td>\n      <td>1.35</td>\n      <td>57.127262</td>\n      <td>65.581718</td>\n      <td>1448</td>\n      <td>0</td>\n      <td>...</td>\n      <td>[5042474]</td>\n      <td>[4859949, 3747867, 3472695, 3142459, 5344482]</td>\n      <td>[4469523, 14928437, 14287289, 14756159]</td>\n      <td>1</td>\n      <td>5</td>\n      <td>4</td>\n      <td>1.000000</td>\n      <td>0.476190</td>\n      <td>0.437500</td>\n      <td>95</td>\n    </tr>\n    <tr>\n      <th>2</th>\n      <td>3544585545</td>\n      <td>4</td>\n      <td>2024-02-15 00:10:47.800</td>\n      <td>2024-02-15 00:13:19.677</td>\n      <td>2024-02-15 05:02:45.250</td>\n      <td>1.20</td>\n      <td>57.146118</td>\n      <td>65.522736</td>\n      <td>1448</td>\n      <td>0</td>\n      <td>...</td>\n      <td>[3025239, 315390, 316531, 14488831]</td>\n      <td>[4581243, 3171468]</td>\n      <td>[3268447, 5711156, 14744763, 14925013]</td>\n      <td>4</td>\n      <td>2</td>\n      <td>4</td>\n      <td>0.584512</td>\n      <td>0.871212</td>\n      <td>0.584674</td>\n      <td>151</td>\n    </tr>\n    <tr>\n      <th>3</th>\n      <td>3544585571</td>\n      <td>3</td>\n      <td>2024-02-15 00:06:58.673</td>\n      <td>2024-02-15 00:07:50.340</td>\n      <td>2024-02-15 05:03:29.623</td>\n      <td>1.25</td>\n      <td>57.146656</td>\n      <td>65.521637</td>\n      <td>1448</td>\n      <td>0</td>\n      <td>...</td>\n      <td>[3025239, 3245830, 3640873, 10021315]</td>\n      <td>[4581243, 7052306]</td>\n      <td>[4694279, 316275, 3268447, 5711156, 12871837]</td>\n      <td>4</td>\n      <td>2</td>\n      <td>5</td>\n      <td>0.651146</td>\n      <td>0.371212</td>\n      <td>0.540683</td>\n      <td>51</td>\n    </tr>\n    <tr>\n      <th>4</th>\n      <td>3544585572</td>\n      <td>5</td>\n      <td>2024-02-15 00:05:40.380</td>\n      <td>2024-02-15 00:10:34.873</td>\n      <td>2024-02-15 05:03:29.733</td>\n      <td>1.35</td>\n      <td>57.145397</td>\n      <td>65.585876</td>\n      <td>1448</td>\n      <td>0</td>\n      <td>...</td>\n      <td>[]</td>\n      <td>[14480359]</td>\n      <td>[3142459, 5042474, 5344482, 14397518, 14194632]</td>\n      <td>0</td>\n      <td>1</td>\n      <td>5</td>\n      <td>1.000000</td>\n      <td>1.000000</td>\n      <td>0.428571</td>\n      <td>294</td>\n    </tr>\n    <tr>\n      <th>...</th>\n      <td>...</td>\n      <td>...</td>\n      <td>...</td>\n      <td>...</td>\n      <td>...</td>\n      <td>...</td>\n      <td>...</td>\n      <td>...</td>\n      <td>...</td>\n      <td>...</td>\n      <td>...</td>\n      <td>...</td>\n      <td>...</td>\n      <td>...</td>\n      <td>...</td>\n      <td>...</td>\n      <td>...</td>\n      <td>...</td>\n      <td>...</td>\n      <td>...</td>\n      <td>...</td>\n    </tr>\n    <tr>\n      <th>145643</th>\n      <td>3549499846</td>\n      <td>18</td>\n      <td>2024-03-13 23:46:41.800</td>\n      <td>2024-03-14 00:05:44.097</td>\n      <td>2024-03-14 04:44:52.303</td>\n      <td>1.00</td>\n      <td>57.115326</td>\n      <td>65.560928</td>\n      <td>1084</td>\n      <td>0</td>\n      <td>...</td>\n      <td>[3740217, 12470301, 14905267]</td>\n      <td>[4189593, 4957320]</td>\n      <td>[4588470, 3775072, 6578362, 9735935, 9966948, ...</td>\n      <td>3</td>\n      <td>2</td>\n      <td>7</td>\n      <td>0.184615</td>\n      <td>0.000000</td>\n      <td>0.488072</td>\n      <td>1142</td>\n    </tr>\n    <tr>\n      <th>145644</th>\n      <td>3549499955</td>\n      <td>10</td>\n      <td>2024-03-13 23:51:20.557</td>\n      <td>2024-03-14 00:02:07.323</td>\n      <td>2024-03-14 04:49:52.080</td>\n      <td>1.00</td>\n      <td>57.146118</td>\n      <td>65.522736</td>\n      <td>1448</td>\n      <td>0</td>\n      <td>...</td>\n      <td>[308685, 311396, 3245830, 4513194]</td>\n      <td>[308481, 6417510, 14825782]</td>\n      <td>[310388, 8602004, 8925961, 5711156, 14252671, ...</td>\n      <td>4</td>\n      <td>3</td>\n      <td>8</td>\n      <td>0.430162</td>\n      <td>1.000000</td>\n      <td>0.696275</td>\n      <td>646</td>\n    </tr>\n    <tr>\n      <th>145645</th>\n      <td>3549499961</td>\n      <td>4</td>\n      <td>2024-03-13 23:58:55.290</td>\n      <td>2024-03-13 23:59:51.967</td>\n      <td>2024-03-14 04:50:22.870</td>\n      <td>1.25</td>\n      <td>57.147602</td>\n      <td>65.642136</td>\n      <td>1448</td>\n      <td>0</td>\n      <td>...</td>\n      <td>[]</td>\n      <td>[5412814]</td>\n      <td>[4198055, 5959409]</td>\n      <td>0</td>\n      <td>1</td>\n      <td>2</td>\n      <td>1.000000</td>\n      <td>1.000000</td>\n      <td>0.428571</td>\n      <td>56</td>\n    </tr>\n    <tr>\n      <th>145646</th>\n      <td>3549500025</td>\n      <td>5</td>\n      <td>2024-03-13 23:56:31.047</td>\n      <td>2024-03-14 00:00:43.637</td>\n      <td>2024-03-14 04:53:47.267</td>\n      <td>1.25</td>\n      <td>57.095970</td>\n      <td>65.566177</td>\n      <td>1448</td>\n      <td>0</td>\n      <td>...</td>\n      <td>[14511477]</td>\n      <td>[]</td>\n      <td>[4517649, 14905267]</td>\n      <td>1</td>\n      <td>0</td>\n      <td>2</td>\n      <td>0.000000</td>\n      <td>1.000000</td>\n      <td>1.000000</td>\n      <td>252</td>\n    </tr>\n    <tr>\n      <th>145647</th>\n      <td>3549500125</td>\n      <td>12</td>\n      <td>2024-03-14 00:01:33.953</td>\n      <td>2024-03-14 00:07:11.300</td>\n      <td>2024-03-14 04:59:51.620</td>\n      <td>1.35</td>\n      <td>57.104553</td>\n      <td>65.549805</td>\n      <td>1448</td>\n      <td>0</td>\n      <td>...</td>\n      <td>[]</td>\n      <td>[14203317]</td>\n      <td>[9735935, 14499797, 14905267, 14773399]</td>\n      <td>0</td>\n      <td>1</td>\n      <td>4</td>\n      <td>1.000000</td>\n      <td>1.000000</td>\n      <td>0.695833</td>\n      <td>337</td>\n    </tr>\n  </tbody>\n</table>\n<p>145648 rows × 24 columns</p>\n</div>"
     },
     "metadata": {},
     "output_type": "display_data"
    }
   ],
   "source": [
    "#вычисляем целевую переменную - время подачи автомобиля\n",
    "orders_data['ActualEstimatedTimeArrival'] = (\n",
    "            orders_data['ArrivalDriverDate'] - orders_data['SetDriverDate']).dt.total_seconds().astype(int)\n",
    "\n",
    "#выводим результат\n",
    "display(orders_data)"
   ],
   "metadata": {
    "collapsed": false,
    "ExecuteTime": {
     "end_time": "2024-04-14T05:02:38.280521Z",
     "start_time": "2024-04-14T05:02:38.117336Z"
    }
   },
   "id": "c66b2d49c48e29eb",
   "execution_count": 102
  },
  {
   "cell_type": "code",
   "outputs": [],
   "source": [
    "#формируем датасет и сохраняем его\n",
    "orders_data[\n",
    "    ['ActualEstimatedTimeArrival', 'LoadArea', 'IsWeekend', 'IsRushHour', 'HasPrecipitation',\n",
    "     'CountDrivers500m', 'CountDrivers1000m', 'CountDrivers2000m', 'ProbabilityRefusalOrder500m',\n",
    "     'ProbabilityRefusalOrder1000m', 'ProbabilityRefusalOrder2000m']].to_csv('DatasetEstimatedTimeArrival', index=False)"
   ],
   "metadata": {
    "collapsed": false,
    "ExecuteTime": {
     "end_time": "2024-04-14T05:03:12.305583Z",
     "start_time": "2024-04-14T05:03:11.309539Z"
    }
   },
   "id": "d35100c56511c62c",
   "execution_count": 103
  }
 ],
 "metadata": {
  "kernelspec": {
   "display_name": "Python 3",
   "language": "python",
   "name": "python3"
  },
  "language_info": {
   "codemirror_mode": {
    "name": "ipython",
    "version": 2
   },
   "file_extension": ".py",
   "mimetype": "text/x-python",
   "name": "python",
   "nbconvert_exporter": "python",
   "pygments_lexer": "ipython2",
   "version": "2.7.6"
  }
 },
 "nbformat": 4,
 "nbformat_minor": 5
}
